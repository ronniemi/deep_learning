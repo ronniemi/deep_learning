{
  "cells": [
    {
      "metadata": {
        "_uuid": "8f2839f25d086af736a60e9eeb907d3b93b6e0e5",
        "_cell_guid": "b1076dfc-b9ad-4769-8c92-a6c4dae69d19",
        "trusted": true
      },
      "cell_type": "code",
      "source": "# This Python 3 environment comes with many helpful analytics libraries installed\n# It is defined by the kaggle/python docker image: https://github.com/kaggle/docker-python\n# For example, here's several helpful packages to load in \n\nimport numpy as np # linear algebra\nimport pandas as pd # data processing, CSV file I/O (e.g. pd.read_csv)\nimport matplotlib.pyplot as plt\n%matplotlib inline\n\nfrom keras.models import Model\nfrom keras.layers import *\nfrom keras.callbacks import *\nfrom keras.regularizers import l2\nfrom keras.optimizers import *\nfrom keras.utils import to_categorical\nimport datetime\nfrom sklearn.preprocessing import LabelEncoder\nimport gc\nfrom sklearn.model_selection import train_test_split\nimport lightgbm as lgb\nfrom sklearn.metrics import mean_squared_error\nfrom sklearn.model_selection import KFold,StratifiedKFold\nfrom keras import backend as K\nfrom sklearn.model_selection import KFold\n\n\n# Input data files are available in the \"../input/\" directory.\n# For example, running this (by clicking run or pressing Shift+Enter) will list the files in the input directory\n\nimport os\nprint(os.listdir(\"../input\"))\n\n# Any results you write to the current directory are saved as output.",
      "execution_count": 1,
      "outputs": [
        {
          "output_type": "stream",
          "text": "Using TensorFlow backend.\n",
          "name": "stderr"
        },
        {
          "output_type": "stream",
          "text": "['bgu-dl-assignmnt2-features-extraction', 'elo-merchant-category-recommendation']\n",
          "name": "stdout"
        }
      ]
    },
    {
      "metadata": {
        "_uuid": "86cae6aa917478a27cd397d7dcc949447e696e5e"
      },
      "cell_type": "markdown",
      "source": "# Define global functions"
    },
    {
      "metadata": {
        "trusted": true,
        "_uuid": "4f4a12768f717d1dbf1671bdae5021816b60dd1e"
      },
      "cell_type": "code",
      "source": "# define function that calaculate RMSE\ndef root_mean_squared_error(y_true, y_pred):\n        return K.sqrt(K.mean(K.square(y_pred - y_true)))",
      "execution_count": 2,
      "outputs": []
    },
    {
      "metadata": {
        "_uuid": "d9f7ce14f675a7fb562e70187ca409b14db27d3e"
      },
      "cell_type": "markdown",
      "source": "# Read data"
    },
    {
      "metadata": {
        "trusted": true,
        "_uuid": "6b5c30df1f3fc70b60de8261c2b13fa58ac0b0e0"
      },
      "cell_type": "code",
      "source": "train_set = pd.read_csv(\"../input/bgu-dl-assignmnt2-features-extraction/train_set.csv\")\ntest_set = pd.read_csv(\"../input/bgu-dl-assignmnt2-features-extraction/test_set.csv\")\ntarget = pd.read_csv(\"../input/bgu-dl-assignmnt2-features-extraction/target.csv\", header=None)\n\nprint(\"shape of train : \",train_set.shape)\nprint(\"shape of test : \",test_set.shape)\nprint(\"shape of target : \",target.shape)",
      "execution_count": 3,
      "outputs": [
        {
          "output_type": "stream",
          "text": "shape of train :  (201917, 143)\nshape of test :  (123623, 143)\nshape of target :  (201917, 1)\n",
          "name": "stdout"
        }
      ]
    },
    {
      "metadata": {
        "_uuid": "17cc95098cb7021f7c27e06377faa737a691e609"
      },
      "cell_type": "markdown",
      "source": "# Preprocessing"
    },
    {
      "metadata": {
        "trusted": true,
        "_uuid": "19424a660e66e4e32233e51cf7f6b7b3231e1273"
      },
      "cell_type": "code",
      "source": "cat_col = ['feature_1','feature_2', 'feature_3', 'merchant_group_id', 'merchant_category_id', 'subsector_id', 'category_1',\n          'most_recent_sales_range', 'most_recent_purchases_range', 'category_4', 'city_id', 'state_id', 'category_2']\nnumeric_col = train_set.columns[~train_set.columns.isin(np.append(cat_col, ['card_id', 'first_active_month']))]\nused_col = np.concatenate((cat_col, numeric_col), axis=0)",
      "execution_count": 4,
      "outputs": []
    },
    {
      "metadata": {
        "trusted": true,
        "_uuid": "c47482796675c87a0438f4a6a96a801d3482c901"
      },
      "cell_type": "code",
      "source": "def preprocess(trx_data):\n    for cat_col_name in cat_col:\n        lbl = LabelEncoder()\n        lbl.fit(trx_data[cat_col_name].unique().astype('str'))\n        trx_data[cat_col_name] = lbl.transform(trx_data[cat_col_name].astype('str'))\n    \n    for numeric_col_name in numeric_col:\n        trx_data[numeric_col_name] = pd.to_numeric(trx_data[numeric_col_name])\n        min_val = trx_data[numeric_col_name].min()\n        max_val = trx_data[numeric_col_name].max()\n        if min_val == max_val:\n            trx_data[numeric_col_name] = 0\n            print(numeric_col_name)\n        else:\n            trx_data[numeric_col_name] = (max_val - trx_data[numeric_col_name]) / (max_val - min_val)\n\n    return trx_data\n\n# remove nan values from data set\ntrain_set_no_nan = train_set.fillna(-20)\ntest_set_no_nan = test_set.fillna(-20)\n\ntrain_set = preprocess(train_set_no_nan)\ntest_set = preprocess(test_set_no_nan)",
      "execution_count": 5,
      "outputs": []
    },
    {
      "metadata": {
        "_uuid": "0eaf388d25ace39a6f781d532ead2e802ff78946"
      },
      "cell_type": "markdown",
      "source": "# split the given train set to train and test set"
    },
    {
      "metadata": {
        "trusted": true,
        "_uuid": "b5f97a5ce3daac2ef4caf508bd4692a2d6cd67d6"
      },
      "cell_type": "code",
      "source": "X_train, X_test, y_train, y_test = train_test_split(train_set, target, test_size=0.2, random_state=24)\n\nprint('X_train shape', X_train.shape)\nprint('X_test shape', X_test.shape)",
      "execution_count": 6,
      "outputs": [
        {
          "output_type": "stream",
          "text": "X_train shape (161533, 143)\nX_test shape (40384, 143)\n",
          "name": "stdout"
        }
      ]
    },
    {
      "metadata": {
        "trusted": true,
        "_uuid": "be17a6f30efd1d8214606b2ef154b21f6ef3b431"
      },
      "cell_type": "code",
      "source": "X_train.head()",
      "execution_count": 7,
      "outputs": [
        {
          "output_type": "execute_result",
          "execution_count": 7,
          "data": {
            "text/plain": "       first_active_month             ...             category_1_installments_std\n165743         2017-06-01             ...                                1.000000\n119952         2017-11-01             ...                                0.500784\n89339          2017-09-01             ...                                0.345697\n25589          2014-05-01             ...                                1.000000\n162026         2017-10-01             ...                                0.530636\n\n[5 rows x 143 columns]",
            "text/html": "<div>\n<style scoped>\n    .dataframe tbody tr th:only-of-type {\n        vertical-align: middle;\n    }\n\n    .dataframe tbody tr th {\n        vertical-align: top;\n    }\n\n    .dataframe thead th {\n        text-align: right;\n    }\n</style>\n<table border=\"1\" class=\"dataframe\">\n  <thead>\n    <tr style=\"text-align: right;\">\n      <th></th>\n      <th>first_active_month</th>\n      <th>card_id</th>\n      <th>feature_1</th>\n      <th>feature_2</th>\n      <th>feature_3</th>\n      <th>year</th>\n      <th>month</th>\n      <th>elapsed_time</th>\n      <th>merchant_group_id</th>\n      <th>merchant_category_id</th>\n      <th>subsector_id</th>\n      <th>numerical_1</th>\n      <th>numerical_2</th>\n      <th>category_1</th>\n      <th>most_recent_sales_range</th>\n      <th>most_recent_purchases_range</th>\n      <th>avg_sales_lag3</th>\n      <th>avg_purchases_lag3</th>\n      <th>active_months_lag3</th>\n      <th>avg_sales_lag6</th>\n      <th>avg_purchases_lag6</th>\n      <th>active_months_lag6</th>\n      <th>avg_sales_lag12</th>\n      <th>avg_purchases_lag12</th>\n      <th>active_months_lag12</th>\n      <th>category_4</th>\n      <th>city_id</th>\n      <th>state_id</th>\n      <th>category_2</th>\n      <th>history_trx_count</th>\n      <th>history_merchant_id_nunique</th>\n      <th>history_merchant_category_id_nunique</th>\n      <th>history_state_id_nunique</th>\n      <th>history_city_id_nunique</th>\n      <th>history_subsector_id_nunique</th>\n      <th>history_purchase_amount_sum</th>\n      <th>history_purchase_amount_mean</th>\n      <th>history_purchase_amount_max</th>\n      <th>history_purchase_amount_min</th>\n      <th>history_purchase_amount_std</th>\n      <th>...</th>\n      <th>purchase_amount_count_mean</th>\n      <th>purchase_amount_count_std</th>\n      <th>purchase_amount_sum_mean</th>\n      <th>purchase_amount_sum_std</th>\n      <th>purchase_amount_mean_mean</th>\n      <th>purchase_amount_mean_std</th>\n      <th>purchase_amount_min_mean</th>\n      <th>purchase_amount_min_std</th>\n      <th>purchase_amount_max_mean</th>\n      <th>purchase_amount_max_std</th>\n      <th>purchase_amount_std_mean</th>\n      <th>purchase_amount_std_std</th>\n      <th>installments_count_mean</th>\n      <th>installments_count_std</th>\n      <th>installments_sum_mean</th>\n      <th>installments_sum_std</th>\n      <th>installments_mean_mean</th>\n      <th>installments_mean_std</th>\n      <th>installments_min_mean</th>\n      <th>installments_min_std</th>\n      <th>installments_max_mean</th>\n      <th>installments_max_std</th>\n      <th>installments_std_mean</th>\n      <th>installments_std_std</th>\n      <th>category_1_purchase_amount_mean</th>\n      <th>category_1_purchase_amount_min</th>\n      <th>category_1_purchase_amount_max</th>\n      <th>category_1_purchase_amount_std</th>\n      <th>installments_purchase_amount_mean</th>\n      <th>installments_purchase_amount_min</th>\n      <th>installments_purchase_amount_max</th>\n      <th>installments_purchase_amount_std</th>\n      <th>city_id_purchase_amount_mean</th>\n      <th>city_id_purchase_amount_min</th>\n      <th>city_id_purchase_amount_max</th>\n      <th>city_id_purchase_amount_std</th>\n      <th>category_1_installments_mean</th>\n      <th>category_1_installments_min</th>\n      <th>category_1_installments_max</th>\n      <th>category_1_installments_std</th>\n    </tr>\n  </thead>\n  <tbody>\n    <tr>\n      <th>165743</th>\n      <td>2017-06-01</td>\n      <td>C_ID_f9f784f2e2</td>\n      <td>1</td>\n      <td>0</td>\n      <td>0</td>\n      <td>0.142857</td>\n      <td>0.545455</td>\n      <td>0.892732</td>\n      <td>4474</td>\n      <td>209</td>\n      <td>25</td>\n      <td>0.999569</td>\n      <td>1.000000</td>\n      <td>0</td>\n      <td>0</td>\n      <td>0</td>\n      <td>0.999975</td>\n      <td>0.999989</td>\n      <td>0.0</td>\n      <td>0.999973</td>\n      <td>0.999984</td>\n      <td>0.0</td>\n      <td>0.999969</td>\n      <td>0.999981</td>\n      <td>0.0</td>\n      <td>1</td>\n      <td>243</td>\n      <td>24</td>\n      <td>1</td>\n      <td>0.982353</td>\n      <td>0.733333</td>\n      <td>0.612903</td>\n      <td>0.322581</td>\n      <td>0.432432</td>\n      <td>0.428571</td>\n      <td>0.999832</td>\n      <td>0.999997</td>\n      <td>0.999997</td>\n      <td>0.999997</td>\n      <td>0.999762</td>\n      <td>...</td>\n      <td>0.891594</td>\n      <td>0.969174</td>\n      <td>0.649447</td>\n      <td>0.970931</td>\n      <td>0.997793</td>\n      <td>0.999516</td>\n      <td>0.999251</td>\n      <td>0.999906</td>\n      <td>0.993452</td>\n      <td>0.995860</td>\n      <td>0.724968</td>\n      <td>0.752204</td>\n      <td>0.891594</td>\n      <td>0.969174</td>\n      <td>0.869091</td>\n      <td>0.982230</td>\n      <td>0.945508</td>\n      <td>0.997504</td>\n      <td>0.897438</td>\n      <td>0.891245</td>\n      <td>0.974685</td>\n      <td>0.993096</td>\n      <td>0.824478</td>\n      <td>0.918312</td>\n      <td>0.699159</td>\n      <td>0.699159</td>\n      <td>0.699159</td>\n      <td>1.000000</td>\n      <td>0.698988</td>\n      <td>0.699190</td>\n      <td>0.800010</td>\n      <td>0.731649</td>\n      <td>0.699213</td>\n      <td>0.699657</td>\n      <td>0.800062</td>\n      <td>0.702611</td>\n      <td>0.450964</td>\n      <td>0.341156</td>\n      <td>0.622168</td>\n      <td>1.000000</td>\n    </tr>\n    <tr>\n      <th>119952</th>\n      <td>2017-11-01</td>\n      <td>C_ID_c36d60df2c</td>\n      <td>0</td>\n      <td>0</td>\n      <td>0</td>\n      <td>0.142857</td>\n      <td>0.090909</td>\n      <td>0.959720</td>\n      <td>15444</td>\n      <td>209</td>\n      <td>25</td>\n      <td>0.999353</td>\n      <td>0.999946</td>\n      <td>0</td>\n      <td>0</td>\n      <td>0</td>\n      <td>0.999975</td>\n      <td>0.999989</td>\n      <td>0.0</td>\n      <td>0.999973</td>\n      <td>0.999985</td>\n      <td>0.0</td>\n      <td>0.999969</td>\n      <td>0.999981</td>\n      <td>0.0</td>\n      <td>1</td>\n      <td>0</td>\n      <td>6</td>\n      <td>4</td>\n      <td>0.986275</td>\n      <td>0.766667</td>\n      <td>0.661290</td>\n      <td>0.322581</td>\n      <td>0.432432</td>\n      <td>0.500000</td>\n      <td>0.999832</td>\n      <td>0.999997</td>\n      <td>0.999997</td>\n      <td>0.999997</td>\n      <td>1.000000</td>\n      <td>...</td>\n      <td>0.910714</td>\n      <td>0.974388</td>\n      <td>0.639327</td>\n      <td>0.979657</td>\n      <td>0.996431</td>\n      <td>0.999058</td>\n      <td>0.999381</td>\n      <td>0.999930</td>\n      <td>0.988658</td>\n      <td>0.993723</td>\n      <td>0.723861</td>\n      <td>0.752077</td>\n      <td>0.910714</td>\n      <td>0.974388</td>\n      <td>0.907197</td>\n      <td>0.980044</td>\n      <td>0.953179</td>\n      <td>0.998627</td>\n      <td>0.884615</td>\n      <td>0.891245</td>\n      <td>0.989903</td>\n      <td>0.997840</td>\n      <td>0.830142</td>\n      <td>0.920067</td>\n      <td>0.680688</td>\n      <td>0.695386</td>\n      <td>0.665997</td>\n      <td>0.502565</td>\n      <td>0.670810</td>\n      <td>0.695810</td>\n      <td>0.737911</td>\n      <td>0.694129</td>\n      <td>0.690409</td>\n      <td>0.698681</td>\n      <td>0.778252</td>\n      <td>0.689832</td>\n      <td>0.408203</td>\n      <td>0.340156</td>\n      <td>0.563943</td>\n      <td>0.500784</td>\n    </tr>\n    <tr>\n      <th>89339</th>\n      <td>2017-09-01</td>\n      <td>C_ID_42699e8b0c</td>\n      <td>3</td>\n      <td>0</td>\n      <td>0</td>\n      <td>0.142857</td>\n      <td>0.272727</td>\n      <td>0.933012</td>\n      <td>10743</td>\n      <td>248</td>\n      <td>20</td>\n      <td>1.000000</td>\n      <td>1.000000</td>\n      <td>1</td>\n      <td>0</td>\n      <td>0</td>\n      <td>0.999975</td>\n      <td>0.999991</td>\n      <td>0.0</td>\n      <td>0.999973</td>\n      <td>0.999989</td>\n      <td>0.0</td>\n      <td>0.999970</td>\n      <td>0.999990</td>\n      <td>0.0</td>\n      <td>1</td>\n      <td>0</td>\n      <td>0</td>\n      <td>0</td>\n      <td>0.984967</td>\n      <td>0.755556</td>\n      <td>0.629032</td>\n      <td>0.322581</td>\n      <td>0.432432</td>\n      <td>0.452381</td>\n      <td>0.999832</td>\n      <td>0.999997</td>\n      <td>0.999997</td>\n      <td>0.999997</td>\n      <td>0.999761</td>\n      <td>...</td>\n      <td>0.975610</td>\n      <td>0.990287</td>\n      <td>0.618216</td>\n      <td>0.992298</td>\n      <td>0.996619</td>\n      <td>0.995900</td>\n      <td>0.999415</td>\n      <td>0.999850</td>\n      <td>0.987805</td>\n      <td>0.977645</td>\n      <td>0.722544</td>\n      <td>0.746483</td>\n      <td>0.975610</td>\n      <td>0.990287</td>\n      <td>0.951515</td>\n      <td>0.979448</td>\n      <td>0.944342</td>\n      <td>0.993159</td>\n      <td>0.846154</td>\n      <td>1.000000</td>\n      <td>0.982876</td>\n      <td>0.988903</td>\n      <td>0.826805</td>\n      <td>0.914651</td>\n      <td>0.665093</td>\n      <td>0.674533</td>\n      <td>0.655654</td>\n      <td>0.513700</td>\n      <td>0.665093</td>\n      <td>0.674533</td>\n      <td>0.771386</td>\n      <td>0.720410</td>\n      <td>0.665093</td>\n      <td>0.674533</td>\n      <td>0.771386</td>\n      <td>0.690267</td>\n      <td>0.335938</td>\n      <td>0.406250</td>\n      <td>0.426523</td>\n      <td>0.345697</td>\n    </tr>\n    <tr>\n      <th>25589</th>\n      <td>2014-05-01</td>\n      <td>C_ID_750614dd76</td>\n      <td>2</td>\n      <td>2</td>\n      <td>1</td>\n      <td>0.571429</td>\n      <td>0.636364</td>\n      <td>0.399299</td>\n      <td>21447</td>\n      <td>257</td>\n      <td>19</td>\n      <td>0.998921</td>\n      <td>1.000000</td>\n      <td>0</td>\n      <td>0</td>\n      <td>0</td>\n      <td>0.999975</td>\n      <td>0.999989</td>\n      <td>0.0</td>\n      <td>0.999973</td>\n      <td>0.999986</td>\n      <td>0.0</td>\n      <td>0.999969</td>\n      <td>0.999980</td>\n      <td>0.0</td>\n      <td>1</td>\n      <td>243</td>\n      <td>24</td>\n      <td>1</td>\n      <td>0.985621</td>\n      <td>0.755556</td>\n      <td>0.645161</td>\n      <td>0.290323</td>\n      <td>0.405405</td>\n      <td>0.476190</td>\n      <td>0.999832</td>\n      <td>0.999997</td>\n      <td>0.999997</td>\n      <td>0.999997</td>\n      <td>0.999764</td>\n      <td>...</td>\n      <td>0.993706</td>\n      <td>0.996185</td>\n      <td>0.613434</td>\n      <td>0.995642</td>\n      <td>0.997480</td>\n      <td>0.996513</td>\n      <td>0.997659</td>\n      <td>0.996654</td>\n      <td>0.997987</td>\n      <td>0.997362</td>\n      <td>0.725520</td>\n      <td>0.751617</td>\n      <td>0.993706</td>\n      <td>0.996185</td>\n      <td>0.988636</td>\n      <td>1.000000</td>\n      <td>0.980121</td>\n      <td>1.000000</td>\n      <td>0.923077</td>\n      <td>1.000000</td>\n      <td>0.998385</td>\n      <td>1.000000</td>\n      <td>0.832916</td>\n      <td>0.921105</td>\n      <td>0.699836</td>\n      <td>0.699836</td>\n      <td>0.699836</td>\n      <td>1.000000</td>\n      <td>0.699836</td>\n      <td>0.699836</td>\n      <td>0.800719</td>\n      <td>1.000000</td>\n      <td>0.699836</td>\n      <td>0.699836</td>\n      <td>0.800719</td>\n      <td>1.000000</td>\n      <td>0.479167</td>\n      <td>0.375000</td>\n      <td>0.641577</td>\n      <td>1.000000</td>\n    </tr>\n    <tr>\n      <th>162026</th>\n      <td>2017-10-01</td>\n      <td>C_ID_18d2ec30fc</td>\n      <td>0</td>\n      <td>1</td>\n      <td>0</td>\n      <td>0.142857</td>\n      <td>0.181818</td>\n      <td>0.946147</td>\n      <td>16189</td>\n      <td>164</td>\n      <td>36</td>\n      <td>1.000000</td>\n      <td>1.000000</td>\n      <td>1</td>\n      <td>0</td>\n      <td>1</td>\n      <td>0.999976</td>\n      <td>0.999990</td>\n      <td>0.0</td>\n      <td>0.999973</td>\n      <td>0.999989</td>\n      <td>0.0</td>\n      <td>0.999970</td>\n      <td>0.999989</td>\n      <td>0.0</td>\n      <td>1</td>\n      <td>0</td>\n      <td>0</td>\n      <td>0</td>\n      <td>0.984314</td>\n      <td>0.744444</td>\n      <td>0.629032</td>\n      <td>0.322581</td>\n      <td>0.432432</td>\n      <td>0.452381</td>\n      <td>0.999827</td>\n      <td>0.999996</td>\n      <td>0.999995</td>\n      <td>0.999997</td>\n      <td>0.999673</td>\n      <td>...</td>\n      <td>0.924216</td>\n      <td>0.966563</td>\n      <td>0.595646</td>\n      <td>0.948842</td>\n      <td>0.976048</td>\n      <td>0.988049</td>\n      <td>0.999415</td>\n      <td>0.999909</td>\n      <td>0.908095</td>\n      <td>0.937151</td>\n      <td>0.700027</td>\n      <td>0.738455</td>\n      <td>0.924216</td>\n      <td>0.966563</td>\n      <td>0.863636</td>\n      <td>0.946954</td>\n      <td>0.933175</td>\n      <td>0.991306</td>\n      <td>0.876923</td>\n      <td>0.902719</td>\n      <td>0.972213</td>\n      <td>0.992583</td>\n      <td>0.819674</td>\n      <td>0.916848</td>\n      <td>0.692950</td>\n      <td>0.695988</td>\n      <td>0.689910</td>\n      <td>0.527256</td>\n      <td>0.671745</td>\n      <td>0.698391</td>\n      <td>0.769721</td>\n      <td>0.715174</td>\n      <td>0.688621</td>\n      <td>0.700093</td>\n      <td>0.769721</td>\n      <td>0.686026</td>\n      <td>0.435755</td>\n      <td>0.343750</td>\n      <td>0.599749</td>\n      <td>0.530636</td>\n    </tr>\n  </tbody>\n</table>\n</div>"
          },
          "metadata": {}
        }
      ]
    },
    {
      "metadata": {
        "trusted": true,
        "_uuid": "d030c05a5d135ef44fb12e0f1163d8eedd895ec2"
      },
      "cell_type": "code",
      "source": "X_test.head()",
      "execution_count": 8,
      "outputs": [
        {
          "output_type": "execute_result",
          "execution_count": 8,
          "data": {
            "text/plain": "       first_active_month             ...             category_1_installments_std\n110727         2017-12-01             ...                                     1.0\n108935         2017-02-01             ...                                     1.0\n22893          2017-09-01             ...                                     1.0\n79140          2016-04-01             ...                                     1.0\n12651          2017-06-01             ...                                     1.0\n\n[5 rows x 143 columns]",
            "text/html": "<div>\n<style scoped>\n    .dataframe tbody tr th:only-of-type {\n        vertical-align: middle;\n    }\n\n    .dataframe tbody tr th {\n        vertical-align: top;\n    }\n\n    .dataframe thead th {\n        text-align: right;\n    }\n</style>\n<table border=\"1\" class=\"dataframe\">\n  <thead>\n    <tr style=\"text-align: right;\">\n      <th></th>\n      <th>first_active_month</th>\n      <th>card_id</th>\n      <th>feature_1</th>\n      <th>feature_2</th>\n      <th>feature_3</th>\n      <th>year</th>\n      <th>month</th>\n      <th>elapsed_time</th>\n      <th>merchant_group_id</th>\n      <th>merchant_category_id</th>\n      <th>subsector_id</th>\n      <th>numerical_1</th>\n      <th>numerical_2</th>\n      <th>category_1</th>\n      <th>most_recent_sales_range</th>\n      <th>most_recent_purchases_range</th>\n      <th>avg_sales_lag3</th>\n      <th>avg_purchases_lag3</th>\n      <th>active_months_lag3</th>\n      <th>avg_sales_lag6</th>\n      <th>avg_purchases_lag6</th>\n      <th>active_months_lag6</th>\n      <th>avg_sales_lag12</th>\n      <th>avg_purchases_lag12</th>\n      <th>active_months_lag12</th>\n      <th>category_4</th>\n      <th>city_id</th>\n      <th>state_id</th>\n      <th>category_2</th>\n      <th>history_trx_count</th>\n      <th>history_merchant_id_nunique</th>\n      <th>history_merchant_category_id_nunique</th>\n      <th>history_state_id_nunique</th>\n      <th>history_city_id_nunique</th>\n      <th>history_subsector_id_nunique</th>\n      <th>history_purchase_amount_sum</th>\n      <th>history_purchase_amount_mean</th>\n      <th>history_purchase_amount_max</th>\n      <th>history_purchase_amount_min</th>\n      <th>history_purchase_amount_std</th>\n      <th>...</th>\n      <th>purchase_amount_count_mean</th>\n      <th>purchase_amount_count_std</th>\n      <th>purchase_amount_sum_mean</th>\n      <th>purchase_amount_sum_std</th>\n      <th>purchase_amount_mean_mean</th>\n      <th>purchase_amount_mean_std</th>\n      <th>purchase_amount_min_mean</th>\n      <th>purchase_amount_min_std</th>\n      <th>purchase_amount_max_mean</th>\n      <th>purchase_amount_max_std</th>\n      <th>purchase_amount_std_mean</th>\n      <th>purchase_amount_std_std</th>\n      <th>installments_count_mean</th>\n      <th>installments_count_std</th>\n      <th>installments_sum_mean</th>\n      <th>installments_sum_std</th>\n      <th>installments_mean_mean</th>\n      <th>installments_mean_std</th>\n      <th>installments_min_mean</th>\n      <th>installments_min_std</th>\n      <th>installments_max_mean</th>\n      <th>installments_max_std</th>\n      <th>installments_std_mean</th>\n      <th>installments_std_std</th>\n      <th>category_1_purchase_amount_mean</th>\n      <th>category_1_purchase_amount_min</th>\n      <th>category_1_purchase_amount_max</th>\n      <th>category_1_purchase_amount_std</th>\n      <th>installments_purchase_amount_mean</th>\n      <th>installments_purchase_amount_min</th>\n      <th>installments_purchase_amount_max</th>\n      <th>installments_purchase_amount_std</th>\n      <th>city_id_purchase_amount_mean</th>\n      <th>city_id_purchase_amount_min</th>\n      <th>city_id_purchase_amount_max</th>\n      <th>city_id_purchase_amount_std</th>\n      <th>category_1_installments_mean</th>\n      <th>category_1_installments_min</th>\n      <th>category_1_installments_max</th>\n      <th>category_1_installments_std</th>\n    </tr>\n  </thead>\n  <tbody>\n    <tr>\n      <th>110727</th>\n      <td>2017-12-01</td>\n      <td>C_ID_3d38c16da9</td>\n      <td>2</td>\n      <td>2</td>\n      <td>1</td>\n      <td>0.142857</td>\n      <td>0.000000</td>\n      <td>0.972855</td>\n      <td>7357</td>\n      <td>257</td>\n      <td>19</td>\n      <td>0.999838</td>\n      <td>1.000000</td>\n      <td>0</td>\n      <td>1</td>\n      <td>1</td>\n      <td>0.999975</td>\n      <td>0.999990</td>\n      <td>0.0</td>\n      <td>0.999973</td>\n      <td>0.999987</td>\n      <td>0.0</td>\n      <td>0.999969</td>\n      <td>0.999981</td>\n      <td>0.0</td>\n      <td>1</td>\n      <td>132</td>\n      <td>23</td>\n      <td>3</td>\n      <td>0.986275</td>\n      <td>0.766667</td>\n      <td>0.661290</td>\n      <td>0.322581</td>\n      <td>0.432432</td>\n      <td>0.500000</td>\n      <td>0.999832</td>\n      <td>0.999997</td>\n      <td>0.999997</td>\n      <td>0.999997</td>\n      <td>1.000000</td>\n      <td>...</td>\n      <td>0.991289</td>\n      <td>0.996627</td>\n      <td>0.614055</td>\n      <td>0.996934</td>\n      <td>0.997433</td>\n      <td>0.999819</td>\n      <td>0.998963</td>\n      <td>0.999471</td>\n      <td>0.997611</td>\n      <td>0.999690</td>\n      <td>0.725356</td>\n      <td>0.752757</td>\n      <td>0.991289</td>\n      <td>0.996627</td>\n      <td>0.974750</td>\n      <td>0.998726</td>\n      <td>0.943990</td>\n      <td>0.994482</td>\n      <td>0.948715</td>\n      <td>0.874497</td>\n      <td>0.983845</td>\n      <td>1.000000</td>\n      <td>0.818855</td>\n      <td>0.919937</td>\n      <td>1.000000</td>\n      <td>1.000000</td>\n      <td>1.000000</td>\n      <td>1.0</td>\n      <td>1.000000</td>\n      <td>1.000000</td>\n      <td>1.000000</td>\n      <td>1.000000</td>\n      <td>1.000000</td>\n      <td>1.000000</td>\n      <td>1.000000</td>\n      <td>1.000000</td>\n      <td>1.000000</td>\n      <td>1.00000</td>\n      <td>1.000000</td>\n      <td>1.0</td>\n    </tr>\n    <tr>\n      <th>108935</th>\n      <td>2017-02-01</td>\n      <td>C_ID_baa868fe6e</td>\n      <td>2</td>\n      <td>2</td>\n      <td>1</td>\n      <td>0.142857</td>\n      <td>0.909091</td>\n      <td>0.840193</td>\n      <td>7098</td>\n      <td>217</td>\n      <td>37</td>\n      <td>1.000000</td>\n      <td>1.000000</td>\n      <td>1</td>\n      <td>0</td>\n      <td>0</td>\n      <td>0.999975</td>\n      <td>0.999989</td>\n      <td>0.0</td>\n      <td>0.999973</td>\n      <td>0.999985</td>\n      <td>0.0</td>\n      <td>0.999970</td>\n      <td>0.999981</td>\n      <td>0.0</td>\n      <td>1</td>\n      <td>0</td>\n      <td>0</td>\n      <td>0</td>\n      <td>0.973203</td>\n      <td>0.688889</td>\n      <td>0.580645</td>\n      <td>0.258065</td>\n      <td>0.351351</td>\n      <td>0.404762</td>\n      <td>0.999834</td>\n      <td>0.999997</td>\n      <td>0.999997</td>\n      <td>0.999997</td>\n      <td>0.999764</td>\n      <td>...</td>\n      <td>0.963828</td>\n      <td>0.976614</td>\n      <td>0.624458</td>\n      <td>0.976784</td>\n      <td>0.995820</td>\n      <td>0.990204</td>\n      <td>0.995008</td>\n      <td>0.990115</td>\n      <td>0.996013</td>\n      <td>0.994189</td>\n      <td>0.725768</td>\n      <td>0.752749</td>\n      <td>0.963828</td>\n      <td>0.976614</td>\n      <td>0.939394</td>\n      <td>0.979150</td>\n      <td>0.937674</td>\n      <td>0.992505</td>\n      <td>0.840231</td>\n      <td>0.887113</td>\n      <td>0.981616</td>\n      <td>0.995523</td>\n      <td>0.825165</td>\n      <td>0.918694</td>\n      <td>0.698779</td>\n      <td>0.698779</td>\n      <td>0.698779</td>\n      <td>1.0</td>\n      <td>0.698140</td>\n      <td>0.699259</td>\n      <td>0.798452</td>\n      <td>0.730602</td>\n      <td>0.698779</td>\n      <td>0.698779</td>\n      <td>0.800017</td>\n      <td>1.000000</td>\n      <td>0.453125</td>\n      <td>0.34375</td>\n      <td>0.623656</td>\n      <td>1.0</td>\n    </tr>\n    <tr>\n      <th>22893</th>\n      <td>2017-09-01</td>\n      <td>C_ID_2ce1c19fa6</td>\n      <td>2</td>\n      <td>0</td>\n      <td>1</td>\n      <td>0.142857</td>\n      <td>0.272727</td>\n      <td>0.933012</td>\n      <td>4047</td>\n      <td>234</td>\n      <td>29</td>\n      <td>0.999892</td>\n      <td>0.999946</td>\n      <td>0</td>\n      <td>2</td>\n      <td>2</td>\n      <td>0.999975</td>\n      <td>0.999990</td>\n      <td>0.0</td>\n      <td>0.999973</td>\n      <td>0.999985</td>\n      <td>0.0</td>\n      <td>0.999969</td>\n      <td>0.999980</td>\n      <td>0.0</td>\n      <td>0</td>\n      <td>78</td>\n      <td>24</td>\n      <td>1</td>\n      <td>0.983660</td>\n      <td>0.755556</td>\n      <td>0.645161</td>\n      <td>0.290323</td>\n      <td>0.405405</td>\n      <td>0.476190</td>\n      <td>0.999832</td>\n      <td>0.999997</td>\n      <td>0.999997</td>\n      <td>0.999997</td>\n      <td>0.999765</td>\n      <td>...</td>\n      <td>0.960087</td>\n      <td>0.984418</td>\n      <td>0.626218</td>\n      <td>0.985436</td>\n      <td>0.998873</td>\n      <td>0.999671</td>\n      <td>0.999532</td>\n      <td>0.999929</td>\n      <td>0.998154</td>\n      <td>0.999245</td>\n      <td>0.725912</td>\n      <td>0.752876</td>\n      <td>0.960087</td>\n      <td>0.984418</td>\n      <td>0.988636</td>\n      <td>1.000000</td>\n      <td>0.980121</td>\n      <td>1.000000</td>\n      <td>0.923077</td>\n      <td>1.000000</td>\n      <td>0.998385</td>\n      <td>1.000000</td>\n      <td>0.832916</td>\n      <td>0.921105</td>\n      <td>0.699388</td>\n      <td>0.699388</td>\n      <td>0.699388</td>\n      <td>1.0</td>\n      <td>0.699388</td>\n      <td>0.699388</td>\n      <td>0.800421</td>\n      <td>1.000000</td>\n      <td>0.699393</td>\n      <td>0.699403</td>\n      <td>0.800414</td>\n      <td>0.702984</td>\n      <td>0.479167</td>\n      <td>0.37500</td>\n      <td>0.641577</td>\n      <td>1.0</td>\n    </tr>\n    <tr>\n      <th>79140</th>\n      <td>2016-04-01</td>\n      <td>C_ID_03a8c5345e</td>\n      <td>1</td>\n      <td>1</td>\n      <td>0</td>\n      <td>0.285714</td>\n      <td>0.727273</td>\n      <td>0.706217</td>\n      <td>26610</td>\n      <td>209</td>\n      <td>25</td>\n      <td>0.999784</td>\n      <td>0.999837</td>\n      <td>0</td>\n      <td>1</td>\n      <td>1</td>\n      <td>0.999975</td>\n      <td>0.999989</td>\n      <td>0.0</td>\n      <td>0.999973</td>\n      <td>0.999985</td>\n      <td>0.0</td>\n      <td>0.999969</td>\n      <td>0.999981</td>\n      <td>0.0</td>\n      <td>0</td>\n      <td>0</td>\n      <td>11</td>\n      <td>3</td>\n      <td>0.982353</td>\n      <td>0.733333</td>\n      <td>0.629032</td>\n      <td>0.322581</td>\n      <td>0.405405</td>\n      <td>0.452381</td>\n      <td>0.999832</td>\n      <td>0.999997</td>\n      <td>0.999997</td>\n      <td>0.999997</td>\n      <td>0.999764</td>\n      <td>...</td>\n      <td>0.970144</td>\n      <td>0.986712</td>\n      <td>0.620028</td>\n      <td>0.989805</td>\n      <td>0.996196</td>\n      <td>0.998248</td>\n      <td>0.998940</td>\n      <td>0.999606</td>\n      <td>0.990591</td>\n      <td>0.993408</td>\n      <td>0.723552</td>\n      <td>0.751211</td>\n      <td>0.970144</td>\n      <td>0.986712</td>\n      <td>0.988636</td>\n      <td>1.000000</td>\n      <td>0.980121</td>\n      <td>1.000000</td>\n      <td>0.923077</td>\n      <td>1.000000</td>\n      <td>0.998385</td>\n      <td>1.000000</td>\n      <td>0.832916</td>\n      <td>0.921105</td>\n      <td>0.698436</td>\n      <td>0.698436</td>\n      <td>0.698436</td>\n      <td>1.0</td>\n      <td>0.698436</td>\n      <td>0.698436</td>\n      <td>0.799789</td>\n      <td>1.000000</td>\n      <td>0.697819</td>\n      <td>0.698738</td>\n      <td>0.798769</td>\n      <td>0.701759</td>\n      <td>0.479167</td>\n      <td>0.37500</td>\n      <td>0.641577</td>\n      <td>1.0</td>\n    </tr>\n    <tr>\n      <th>12651</th>\n      <td>2017-06-01</td>\n      <td>C_ID_a51a3996c2</td>\n      <td>2</td>\n      <td>1</td>\n      <td>1</td>\n      <td>0.142857</td>\n      <td>0.545455</td>\n      <td>0.892732</td>\n      <td>25179</td>\n      <td>209</td>\n      <td>25</td>\n      <td>1.000000</td>\n      <td>1.000000</td>\n      <td>0</td>\n      <td>2</td>\n      <td>2</td>\n      <td>0.999975</td>\n      <td>0.999989</td>\n      <td>0.0</td>\n      <td>0.999973</td>\n      <td>0.999986</td>\n      <td>0.0</td>\n      <td>0.999970</td>\n      <td>0.999983</td>\n      <td>0.0</td>\n      <td>0</td>\n      <td>169</td>\n      <td>24</td>\n      <td>1</td>\n      <td>0.984314</td>\n      <td>0.755556</td>\n      <td>0.645161</td>\n      <td>0.322581</td>\n      <td>0.405405</td>\n      <td>0.476190</td>\n      <td>0.999832</td>\n      <td>0.999997</td>\n      <td>0.999997</td>\n      <td>0.999997</td>\n      <td>0.999765</td>\n      <td>...</td>\n      <td>0.933580</td>\n      <td>0.980641</td>\n      <td>0.635844</td>\n      <td>0.981719</td>\n      <td>0.998741</td>\n      <td>0.999079</td>\n      <td>0.999642</td>\n      <td>0.999815</td>\n      <td>0.998013</td>\n      <td>0.998364</td>\n      <td>0.725932</td>\n      <td>0.752784</td>\n      <td>0.933580</td>\n      <td>0.980641</td>\n      <td>0.988636</td>\n      <td>1.000000</td>\n      <td>0.980121</td>\n      <td>1.000000</td>\n      <td>0.923077</td>\n      <td>1.000000</td>\n      <td>0.998385</td>\n      <td>1.000000</td>\n      <td>0.832916</td>\n      <td>0.921105</td>\n      <td>0.699174</td>\n      <td>0.699174</td>\n      <td>0.699174</td>\n      <td>1.0</td>\n      <td>0.699174</td>\n      <td>0.699174</td>\n      <td>0.800279</td>\n      <td>1.000000</td>\n      <td>0.699121</td>\n      <td>0.699470</td>\n      <td>0.800010</td>\n      <td>0.702528</td>\n      <td>0.479167</td>\n      <td>0.37500</td>\n      <td>0.641577</td>\n      <td>1.0</td>\n    </tr>\n  </tbody>\n</table>\n</div>"
          },
          "metadata": {}
        }
      ]
    },
    {
      "metadata": {
        "_uuid": "565f7c63304115cdc8a6aaa3c5cddadd0b3c5ed2"
      },
      "cell_type": "markdown",
      "source": "# Classic ML model to form a benchmark"
    },
    {
      "metadata": {
        "trusted": true,
        "_uuid": "38e8bd0683b71e7af9264785787f34782e79ff8a"
      },
      "cell_type": "code",
      "source": "lgb_model = lgb.LGBMRegressor()\nlgb_model.fit(X_train[used_col], y_train.iloc[:,0])\n\nlgb_pred_test = lgb_model.predict(X_test[used_col])\nlgb_pred_train = lgb_model.predict(X_train[used_col])\n\nprint('test RMSE:', mean_squared_error(y_test, lgb_pred_test) ** 0.5)\nprint('train RMSE:', mean_squared_error(y_train, lgb_pred_train) ** 0.5)",
      "execution_count": 9,
      "outputs": [
        {
          "output_type": "stream",
          "text": "test RMSE: 3.594209364193137\ntrain RMSE: 3.3525398377373525\n",
          "name": "stdout"
        }
      ]
    },
    {
      "metadata": {
        "_uuid": "7cefaf989f7496b60442ec4b32b278edc3b14410"
      },
      "cell_type": "markdown",
      "source": "# Create embedding to categorical feature"
    },
    {
      "metadata": {
        "trusted": true,
        "_uuid": "aa090faf76ffe84898296093d79e0380f51b2d6d"
      },
      "cell_type": "code",
      "source": "embedding_col = ['feature_1', 'feature_2', 'feature_3', 'year', 'month']\nother_col = [x for x in used_col if x not in embedding_col]",
      "execution_count": 10,
      "outputs": []
    },
    {
      "metadata": {
        "trusted": true,
        "_uuid": "43185616539bf08f3eebd2c80a306940f23088b7"
      },
      "cell_type": "code",
      "source": "f1_unique_val = len(train_set['feature_1'].unique())\nf2_unique_val = len(train_set['feature_2'].unique())\nf3_unique_val = len(train_set['feature_3'].unique())\nyear_unique_val = len(train_set['year'].unique())\nmonth_unique_val = len(train_set['month'].unique())",
      "execution_count": 11,
      "outputs": []
    },
    {
      "metadata": {
        "trusted": true,
        "_uuid": "71ee8991faa513ee2ebe54ff0335848cd73be0a0"
      },
      "cell_type": "code",
      "source": "f1_inp = Input(shape=(1,),dtype='int64')\nf2_inp = Input(shape=(1,),dtype='int64')\nf3_inp = Input(shape=(1,),dtype='int64')\nyear_inp = Input(shape=(1,),dtype='int64')\nmonth_inp = Input(shape=(1,),dtype='int64')\n\nf1_emb = Embedding(f1_unique_val,2,input_length=1, embeddings_regularizer=l2(1e-6))(f1_inp)\nf2_emb = Embedding(f2_unique_val,1,input_length=1, embeddings_regularizer=l2(1e-6))(f2_inp)\nf3_emb = Embedding(f3_unique_val,1,input_length=1, embeddings_regularizer=l2(1e-6))(f3_inp)\nyear_emb = Embedding(year_unique_val,3,input_length=1, embeddings_regularizer=l2(1e-6))(year_inp)\nmonth_emb = Embedding(month_unique_val,4,input_length=1, embeddings_regularizer=l2(1e-6))(month_inp)",
      "execution_count": 12,
      "outputs": []
    },
    {
      "metadata": {
        "_uuid": "b11848ae55fe9b65848541054fa47d90c913b8a6"
      },
      "cell_type": "markdown",
      "source": "# Predicting the target using only the categorical features embeddings"
    },
    {
      "metadata": {
        "trusted": true,
        "_uuid": "fa07722e76be13e0f6cd975da0d900b2d01d5c12"
      },
      "cell_type": "code",
      "source": "x = concatenate([f1_emb,f2_emb,f3_emb,year_emb,month_emb])\nx = Flatten()(x)\nx = BatchNormalization()(x)\nx = Dense(10,activation='relu')(x)\nx = Dense(10,activation='relu')(x)\nx = Dropout(0.4)(x)\nx = BatchNormalization()(x)\nx = Dense(10,activation='relu')(x)\nx = Dense(10,activation='relu')(x)\nx = Dropout(0.7)(x)\nx = Dense(1, activation='sigmoid')(x) #activation='linear'\nemb_model = Model([f1_inp,f2_inp,f3_inp,year_inp,month_inp],x)\n#emb_model.compile(loss='mse',optimizer='adam')\n\nemb_model.compile(optimizer=\"RMSProp\", loss=root_mean_squared_error)\n\nprint(emb_model.summary())\n\nemb_model.fit([X_train[col] for col in embedding_col], y_train, epochs=5)\n\nemb_pred_test = emb_model.predict([X_test[col] for col in embedding_col])\nemb_pred_train = emb_model.predict([X_train[col] for col in embedding_col])\n\nprint('test RMSE', mean_squared_error(y_test, emb_pred_test) ** 0.5)\nprint('train RMSE', mean_squared_error(y_train, emb_pred_train) ** 0.5)",
      "execution_count": null,
      "outputs": [
        {
          "output_type": "stream",
          "text": "__________________________________________________________________________________________________\nLayer (type)                    Output Shape         Param #     Connected to                     \n==================================================================================================\ninput_1 (InputLayer)            (None, 1)            0                                            \n__________________________________________________________________________________________________\ninput_2 (InputLayer)            (None, 1)            0                                            \n__________________________________________________________________________________________________\ninput_3 (InputLayer)            (None, 1)            0                                            \n__________________________________________________________________________________________________\ninput_4 (InputLayer)            (None, 1)            0                                            \n__________________________________________________________________________________________________\ninput_5 (InputLayer)            (None, 1)            0                                            \n__________________________________________________________________________________________________\nembedding_1 (Embedding)         (None, 1, 2)         10          input_1[0][0]                    \n__________________________________________________________________________________________________\nembedding_2 (Embedding)         (None, 1, 1)         3           input_2[0][0]                    \n__________________________________________________________________________________________________\nembedding_3 (Embedding)         (None, 1, 1)         2           input_3[0][0]                    \n__________________________________________________________________________________________________\nembedding_4 (Embedding)         (None, 1, 3)         24          input_4[0][0]                    \n__________________________________________________________________________________________________\nembedding_5 (Embedding)         (None, 1, 4)         48          input_5[0][0]                    \n__________________________________________________________________________________________________\nconcatenate_1 (Concatenate)     (None, 1, 11)        0           embedding_1[0][0]                \n                                                                 embedding_2[0][0]                \n                                                                 embedding_3[0][0]                \n                                                                 embedding_4[0][0]                \n                                                                 embedding_5[0][0]                \n__________________________________________________________________________________________________\nflatten_1 (Flatten)             (None, 11)           0           concatenate_1[0][0]              \n__________________________________________________________________________________________________\nbatch_normalization_1 (BatchNor (None, 11)           44          flatten_1[0][0]                  \n__________________________________________________________________________________________________\ndense_1 (Dense)                 (None, 10)           120         batch_normalization_1[0][0]      \n__________________________________________________________________________________________________\ndense_2 (Dense)                 (None, 10)           110         dense_1[0][0]                    \n__________________________________________________________________________________________________\ndropout_1 (Dropout)             (None, 10)           0           dense_2[0][0]                    \n__________________________________________________________________________________________________\nbatch_normalization_2 (BatchNor (None, 10)           40          dropout_1[0][0]                  \n__________________________________________________________________________________________________\ndense_3 (Dense)                 (None, 10)           110         batch_normalization_2[0][0]      \n__________________________________________________________________________________________________\ndense_4 (Dense)                 (None, 10)           110         dense_3[0][0]                    \n__________________________________________________________________________________________________\ndropout_2 (Dropout)             (None, 10)           0           dense_4[0][0]                    \n__________________________________________________________________________________________________\ndense_5 (Dense)                 (None, 1)            11          dropout_2[0][0]                  \n==================================================================================================\nTotal params: 632\nTrainable params: 590\nNon-trainable params: 42\n__________________________________________________________________________________________________\nNone\n",
          "name": "stdout"
        }
      ]
    },
    {
      "metadata": {
        "_uuid": "8991d93bb0e46777090170c7b8e3669d7a2cc490"
      },
      "cell_type": "markdown",
      "source": "# Use the embeddings we got as a “feature extractor” for a LGBMRegressor model"
    },
    {
      "metadata": {
        "trusted": true,
        "_uuid": "181de76369ffd9f6e102904f355c0a59cfdb9b38"
      },
      "cell_type": "code",
      "source": "emb_output = emb_model.layers[11].output\n\nfeature_model = Model(emb_model.input, emb_output)\n\nfeature_model.compile(optimizer = \"RMSProp\", loss = root_mean_squared_error)\nprint(feature_model.summary())\n\nfeaturs = feature_model.predict([X_train[col] for col in embedding_col])\nfeatures_test = feature_model.predict([X_test[col] for col in embedding_col])\n\nlgb_model = lgb.LGBMRegressor()\nlgb_model.fit(featurs, y_train.values)\n\nlgb_pred_test = lgb_model.predict(features_test)\nlgb_pred_train = lgb_model.predict(featurs)\n\nprint('test RMSE', mean_squared_error(y_test, lgb_pred_test) ** 0.5)\nprint('train RMSE', mean_squared_error(y_train, lgb_pred_train) ** 0.5)",
      "execution_count": null,
      "outputs": []
    },
    {
      "metadata": {
        "_uuid": "1f9502dc4a042bb0c1e4eb1026ab1ba72fa582e1"
      },
      "cell_type": "markdown",
      "source": "# Add the rest of the features "
    },
    {
      "metadata": {
        "trusted": true,
        "_uuid": "093c9733924a4ec78a336587be18fa3791dcac6b"
      },
      "cell_type": "code",
      "source": "# define continuous input\ncontinuous_input = Input(shape=(len(other_col),))\n\n# define categorical input                         \nf1_emb = Reshape((2,))(f1_emb)\nf2_emb = Reshape((1,))(f2_emb)\nf3_emb = Reshape((1,))(f3_emb)\nyear_emb = Reshape((3,))(year_emb)\nmonth_emb = Reshape((4,))(month_emb)\n                         \n#split train set to train and validation set\nX_train_val, X_val, y_train_val, y_val = train_test_split(X_train, y_train, test_size=0.2, random_state=6)\n                         \n# define function to create input to model\ndef get_input(data):\n    inp = [data[other_col], data['feature_1'], data['feature_2'], data['feature_3'], data['year'], data['month']]\n    return inp",
      "execution_count": null,
      "outputs": []
    },
    {
      "metadata": {
        "trusted": true,
        "_uuid": "91e12c16b437a35c5cc063095121613e18ce343a"
      },
      "cell_type": "code",
      "source": "x = concatenate([continuous_input,f1_emb,f2_emb,f3_emb,year_emb,month_emb])\nx = BatchNormalization()(x)\nx = Dense(10,activation='relu')(x)\nx = Dense(10,activation='relu')(x)\nx = Dropout(0.4)(x)\nx = BatchNormalization()(x)\nx = Dense(10,activation='relu')(x)\nx = Dense(10,activation='relu')(x)\nx = Dropout(0.7)(x)\nx = Dense(1, activation='linear')(x)\nemb_cont_model = Model([continuous_input,f1_inp,f2_inp,f3_inp,year_inp,month_inp],x)\n\nrmsprop_opt = RMSprop(lr=0.005)\nemb_cont_model.compile(optimizer = rmsprop_opt, loss = root_mean_squared_error)\n\nprint(emb_cont_model.summary())\n\n'''def set_callbacks(description='run1',patience=15,tb_base_logdir='./logs/'):\n    cp = ModelCheckpoint('best_model_weights_{}.h5'.format(description),save_best_only=True)\n    es = EarlyStopping(patience=patience,monitor='val_loss')\n    rlop = ReduceLROnPlateau(patience=5)   \n    tb = TensorBoard(log_dir='{}{}'.format(tb_base_logdir,description))\n    cb = [cp,es,tb,rlop]\n    return cb'''\n\nhistory = emb_cont_model.fit(get_input(X_train_val), y_train_val, epochs=5, batch_size=16, \n          validation_data=(get_input(X_val), y_val)) #callbacks=set_callbacks()\n\nemb_cont_pred_test = emb_cont_model.predict(get_input(X_test))\nemb_cont_pred_train = emb_cont_model.predict(get_input(X_train_val))\n\nprint('test RMSE', mean_squared_error(y_test, emb_cont_pred_test) ** 0.5)\nprint('train RMSE', mean_squared_error(y_train_val, emb_cont_pred_train) ** 0.5)",
      "execution_count": null,
      "outputs": []
    },
    {
      "metadata": {
        "trusted": true,
        "_uuid": "4d3443252f8e67456d2c7c3d9c8c28487d34243d"
      },
      "cell_type": "code",
      "source": "",
      "execution_count": null,
      "outputs": []
    }
  ],
  "metadata": {
    "kernelspec": {
      "display_name": "Python 3",
      "language": "python",
      "name": "python3"
    },
    "language_info": {
      "name": "python",
      "version": "3.6.6",
      "mimetype": "text/x-python",
      "codemirror_mode": {
        "name": "ipython",
        "version": 3
      },
      "pygments_lexer": "ipython3",
      "nbconvert_exporter": "python",
      "file_extension": ".py"
    }
  },
  "nbformat": 4,
  "nbformat_minor": 1
}