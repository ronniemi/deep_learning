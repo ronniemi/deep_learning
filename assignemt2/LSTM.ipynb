{
  "nbformat": 4,
  "nbformat_minor": 0,
  "metadata": {
    "colab": {
      "name": "LSTM.ipynb",
      "version": "0.3.2",
      "provenance": [],
      "collapsed_sections": []
    },
    "kernelspec": {
      "name": "python3",
      "display_name": "Python 3"
    }
  },
  "cells": [
    {
      "metadata": {
        "id": "aoIeeUvT8PBb",
        "colab_type": "code",
        "colab": {}
      },
      "cell_type": "code",
      "source": [
        "%matplotlib inline\n",
        "import pandas as pd\n",
        "import numpy as np\n",
        "import matplotlib.pyplot as plt\n",
        "from datetime import datetime\n",
        "from sklearn import preprocessing\n",
        "from sklearn.metrics import mean_squared_error\n",
        "import seaborn as sns\n",
        "\n",
        "from keras.models import Model\n",
        "from keras import optimizers\n",
        "from keras.models import Sequential\n",
        "from keras.layers import LSTM, Dense\n",
        "\n",
        "import xgboost as xgb"
      ],
      "execution_count": 0,
      "outputs": []
    },
    {
      "metadata": {
        "id": "CNj6g7ZP8WZP",
        "colab_type": "code",
        "colab": {}
      },
      "cell_type": "code",
      "source": [
        "\n",
        "# Here we allow access to drives directory (to load the model)\n",
        "\n",
        "from google.colab import drive\n",
        "drive.mount('/content/drive/')"
      ],
      "execution_count": 0,
      "outputs": []
    },
    {
      "metadata": {
        "id": "UojzR0NJCSw9",
        "colab_type": "code",
        "colab": {}
      },
      "cell_type": "code",
      "source": [
        "def parse(x):\n",
        "\treturn datetime.strptime(x, '%Y %m %d %H')\n",
        "\n",
        "data = pd.read_csv(r'/content/drive/My Drive/deep learning/assignment2/PRSA_data.csv', parse_dates = [['year', 'month', 'day', 'hour']], index_col=0, date_parser=parse)"
      ],
      "execution_count": 0,
      "outputs": []
    },
    {
      "metadata": {
        "id": "iBkPNi8a_Er5",
        "colab_type": "code",
        "colab": {}
      },
      "cell_type": "code",
      "source": [
        "data = data.iloc[24:]"
      ],
      "execution_count": 0,
      "outputs": []
    },
    {
      "metadata": {
        "id": "FEDIbnXyDupz",
        "colab_type": "code",
        "colab": {}
      },
      "cell_type": "code",
      "source": [
        "data.drop(['No'], axis=1, inplace=True)"
      ],
      "execution_count": 0,
      "outputs": []
    },
    {
      "metadata": {
        "id": "IpuZ_yhIGZQ-",
        "colab_type": "code",
        "colab": {}
      },
      "cell_type": "code",
      "source": [
        "data = data.fillna(0)"
      ],
      "execution_count": 0,
      "outputs": []
    },
    {
      "metadata": {
        "id": "Qz94uiG1JwEH",
        "colab_type": "code",
        "colab": {}
      },
      "cell_type": "code",
      "source": [
        "le = preprocessing.LabelEncoder()\n",
        "le.fit(data['cbwd'].unique())\n",
        "data['cbwd'] = le.transform(data['cbwd'])"
      ],
      "execution_count": 0,
      "outputs": []
    },
    {
      "metadata": {
        "id": "f9_xhk8d1QzX",
        "colab_type": "code",
        "colab": {}
      },
      "cell_type": "code",
      "source": [
        "min_max_norm = preprocessing.MinMaxScaler(feature_range=(0, 1))\n",
        "norm_data = pd.DataFrame(min_max_norm.fit_transform(data), columns=data.columns, index=data.index)"
      ],
      "execution_count": 0,
      "outputs": []
    },
    {
      "metadata": {
        "id": "RMaqZS3N1ato",
        "colab_type": "code",
        "colab": {}
      },
      "cell_type": "code",
      "source": [
        "def get_invers_transform(norm_data):\n",
        "  return pd.DataFrame(min_max_norm.inverse_transform(norm_data), columns=norm_data.columns, index=norm_data.index)"
      ],
      "execution_count": 0,
      "outputs": []
    },
    {
      "metadata": {
        "id": "LlA7szB4Lq2L",
        "colab_type": "code",
        "colab": {}
      },
      "cell_type": "code",
      "source": [
        "'''def z_score_norm(data):\n",
        "  for col in data.columns:\n",
        "    mean_val = data[col].mean()\n",
        "    std_val = data[col].std()\n",
        "    data[col] = (data[col] - mean_val) / std_val\n",
        "    \n",
        "z_score_norm(data)'''"
      ],
      "execution_count": 0,
      "outputs": []
    },
    {
      "metadata": {
        "id": "ka9o_S2SZ-8b",
        "colab_type": "code",
        "colab": {}
      },
      "cell_type": "code",
      "source": [
        "def eval_rmse(X_test, y_pred, y_true):\n",
        "  \n",
        "  # invert scaling for forecast\n",
        "  temp_test = X_test.copy()\n",
        "  temp_test.iloc[:,0] = y_pred\n",
        "  temp_test = get_invers_transform(temp_test)\n",
        "  y_pred_original_val = temp_test.iloc[:,0]\n",
        "  \n",
        "  # invert scaling for actual\n",
        "  temp_test = X_test.copy()\n",
        "  temp_test.iloc[:,0] = y_true\n",
        "  temp_test = get_invers_transform(temp_test)\n",
        "  y_true_original_val = temp_test.iloc[:,0]\n",
        "  \n",
        "  # calculate RMSE\n",
        "  rmse = mean_squared_error(y_pred_original_val, y_true_original_val) ** 0.5\n",
        "  print('Test RMSE: %.5f' % rmse)"
      ],
      "execution_count": 0,
      "outputs": []
    },
    {
      "metadata": {
        "id": "FBkkXYy0Z3eS",
        "colab_type": "text"
      },
      "cell_type": "markdown",
      "source": [
        "# Baseline model"
      ]
    },
    {
      "metadata": {
        "id": "RoHBs5lnT-Zh",
        "colab_type": "code",
        "colab": {}
      },
      "cell_type": "code",
      "source": [
        "baseline_data = norm_data.copy()\n",
        "baseline_data['prediction'] = norm_data['pm2.5'].rolling(window=3, min_periods=3).mean().shift(1)\n",
        "baseline_data = baseline_data[3:]"
      ],
      "execution_count": 0,
      "outputs": []
    },
    {
      "metadata": {
        "id": "y4lDGv6aXOd5",
        "colab_type": "code",
        "colab": {}
      },
      "cell_type": "code",
      "source": [
        "eval_rmse(norm_data[3:], baseline_data['prediction'], baseline_data['pm2.5'])"
      ],
      "execution_count": 0,
      "outputs": []
    },
    {
      "metadata": {
        "id": "2jGk-rbIsqmn",
        "colab_type": "text"
      },
      "cell_type": "markdown",
      "source": [
        "# Transforme the dataset into a supervised learning problem"
      ]
    },
    {
      "metadata": {
        "id": "VgrK3QXss_5Q",
        "colab_type": "code",
        "colab": {}
      },
      "cell_type": "code",
      "source": [
        "# convert series to supervised learning\n",
        "def series_to_supervised(data, n_in=1, n_out=1, dropnan=True):\n",
        "\tn_vars = data.shape[1]\n",
        "\tdf = data\n",
        "\tcols, names = list(), list()\n",
        "  \n",
        "\t# input sequence (t-n, ... t-1)\n",
        "\tfor i in range(n_in, 0, -1):\n",
        "\t\tcols.append(df.shift(i))\n",
        "\t\tnames += [('var%d(t-%d)' % (j+1, i)) for j in range(n_vars)]\n",
        "    \n",
        "\t# forecast sequence (t, t+1, ... t+n)\n",
        "\tfor i in range(0, n_out):\n",
        "\t\tcols.append(df.shift(-i))\n",
        "\t\tif i == 0:\n",
        "\t\t\tnames += [('var%d(t)' % (j+1)) for j in range(n_vars)]\n",
        "\t\telse:\n",
        "\t\t\tnames += [('var%d(t+%d)' % (j+1, i)) for j in range(n_vars)]\n",
        "      \n",
        "\t# put it all together\n",
        "\tagg = pd.concat(cols, axis=1)\n",
        "\tagg.columns = names\n",
        "  \n",
        "\t# drop rows with NaN values\n",
        "\tif dropnan:\n",
        "\t\tagg.dropna(inplace=True)\n",
        "    \n",
        "\treturn agg"
      ],
      "execution_count": 0,
      "outputs": []
    },
    {
      "metadata": {
        "id": "yzR5F3PAtB3y",
        "colab_type": "code",
        "colab": {}
      },
      "cell_type": "code",
      "source": [
        "data_unsuper = series_to_supervised(norm_data)\n",
        "data_unsuper.drop(data_unsuper.columns[[9,10,11,12,13,14,15]], axis=1, inplace=True)\n",
        "data_unsuper.index = data_unsuper.index - pd.offsets.Hour(1)"
      ],
      "execution_count": 0,
      "outputs": []
    },
    {
      "metadata": {
        "id": "2gFsfXuwkvhl",
        "colab_type": "code",
        "colab": {}
      },
      "cell_type": "code",
      "source": [
        "data_unsuper.head()"
      ],
      "execution_count": 0,
      "outputs": []
    },
    {
      "metadata": {
        "id": "Kh_zNKEqt2dA",
        "colab_type": "text"
      },
      "cell_type": "markdown",
      "source": [
        "# Split to train and test setd"
      ]
    },
    {
      "metadata": {
        "id": "VnlO7BU1u3jv",
        "colab_type": "code",
        "colab": {}
      },
      "cell_type": "code",
      "source": [
        "train = data_unsuper.iloc[:,:8]\n",
        "target = data_unsuper.iloc[:,8]"
      ],
      "execution_count": 0,
      "outputs": []
    },
    {
      "metadata": {
        "id": "m23ddBcLt5UB",
        "colab_type": "code",
        "colab": {}
      },
      "cell_type": "code",
      "source": [
        "train_idx = 365 * 4 * 24 # we take for training the data on the first 4 years"
      ],
      "execution_count": 0,
      "outputs": []
    },
    {
      "metadata": {
        "id": "sotZcRpfuDxu",
        "colab_type": "code",
        "colab": {}
      },
      "cell_type": "code",
      "source": [
        "X_train = data_unsuper.iloc[:train_idx,:8]\n",
        "y_train = data_unsuper.iloc[:train_idx,8]\n",
        "\n",
        "X_test = data_unsuper.iloc[train_idx:,:8]\n",
        "y_test = data_unsuper.iloc[train_idx:,8]"
      ],
      "execution_count": 0,
      "outputs": []
    },
    {
      "metadata": {
        "id": "jrJQ7Ce3CmXi",
        "colab_type": "code",
        "colab": {}
      },
      "cell_type": "code",
      "source": [
        "print('X_train shape', X_train.shape)\n",
        "print('X_test shape', X_test.shape)"
      ],
      "execution_count": 0,
      "outputs": []
    },
    {
      "metadata": {
        "id": "hPbToEnVC0Wz",
        "colab_type": "code",
        "colab": {}
      },
      "cell_type": "code",
      "source": [
        "print('test retio', X_test.shape[0]/data_unsuper.shape[0])"
      ],
      "execution_count": 0,
      "outputs": []
    },
    {
      "metadata": {
        "id": "8IZOW04PaAvC",
        "colab_type": "text"
      },
      "cell_type": "markdown",
      "source": [
        "# Classical ML model"
      ]
    },
    {
      "metadata": {
        "id": "4V0caQLVcRWV",
        "colab_type": "code",
        "colab": {}
      },
      "cell_type": "code",
      "source": [
        "xgb_model = xgb.XGBRegressor(n_estimators=100, learning_rate=0.08, gamma=0, subsample=0.75, colsample_bytree=1, max_depth=4)\n",
        "xgb_model.fit(X_train, y_train)"
      ],
      "execution_count": 0,
      "outputs": []
    },
    {
      "metadata": {
        "id": "IFSOl5osoy39",
        "colab_type": "code",
        "colab": {}
      },
      "cell_type": "code",
      "source": [
        "pred = xgb_model.predict(X_test)"
      ],
      "execution_count": 0,
      "outputs": []
    },
    {
      "metadata": {
        "id": "8XuLdN-nc6gk",
        "colab_type": "code",
        "colab": {}
      },
      "cell_type": "code",
      "source": [
        "eval_rmse(X_test, pred, y_test)"
      ],
      "execution_count": 0,
      "outputs": []
    },
    {
      "metadata": {
        "id": "JFpSIQwIo-N8",
        "colab_type": "text"
      },
      "cell_type": "markdown",
      "source": [
        "# LSTM model\n"
      ]
    },
    {
      "metadata": {
        "id": "gFtS54LjMHIk",
        "colab_type": "code",
        "colab": {}
      },
      "cell_type": "code",
      "source": [
        "# reshape input to be 3D [samples, timesteps, features]\n",
        "\n",
        "X_train_val = X_train.values.reshape((X_train.shape[0], 1, X_train.shape[1]))\n",
        "X_test_val = X_test.values.reshape((X_test.shape[0], 1, X_test.shape[1]))"
      ],
      "execution_count": 0,
      "outputs": []
    },
    {
      "metadata": {
        "id": "efzov2SDEo0p",
        "colab_type": "code",
        "colab": {}
      },
      "cell_type": "code",
      "source": [
        "model = Sequential()\n",
        "model.add(LSTM(50, input_shape=(X_train_val.shape[1], X_train_val.shape[2])))\n",
        "model.add(Dense(1))\n",
        "model.compile(loss='mae', optimizer='adam')"
      ],
      "execution_count": 0,
      "outputs": []
    },
    {
      "metadata": {
        "id": "tX8L1R2pQ98V",
        "colab_type": "code",
        "colab": {}
      },
      "cell_type": "code",
      "source": [
        "history = model.fit(X_train_val, y_train, epochs=50, batch_size=72, validation_data=(X_test_val, y_test), verbose=2, shuffle=False)"
      ],
      "execution_count": 0,
      "outputs": []
    },
    {
      "metadata": {
        "id": "Lf-ONge-ppme",
        "colab_type": "code",
        "colab": {}
      },
      "cell_type": "code",
      "source": [
        "pred = model.predict(X_test_val)"
      ],
      "execution_count": 0,
      "outputs": []
    },
    {
      "metadata": {
        "id": "-w72N3IKxzRN",
        "colab_type": "code",
        "colab": {}
      },
      "cell_type": "code",
      "source": [
        "train_pred = model.predict(X_train_val)"
      ],
      "execution_count": 0,
      "outputs": []
    },
    {
      "metadata": {
        "id": "u8kcTK3Sx5Re",
        "colab_type": "code",
        "colab": {}
      },
      "cell_type": "code",
      "source": [
        "eval_rmse(X_train, train_pred, y_train)"
      ],
      "execution_count": 0,
      "outputs": []
    },
    {
      "metadata": {
        "id": "E2DP8aKQz9JQ",
        "colab_type": "code",
        "colab": {}
      },
      "cell_type": "code",
      "source": [
        "eval_rmse(X_test, pred, y_test)"
      ],
      "execution_count": 0,
      "outputs": []
    },
    {
      "metadata": {
        "id": "KeZNFhP27fJP",
        "colab_type": "code",
        "colab": {}
      },
      "cell_type": "code",
      "source": [
        "# plotting loss function\n",
        "\n",
        "plt.plot(history.history['loss'])\n",
        "plt.plot(history.history['val_loss'])\n",
        "plt.title('Model loss')\n",
        "plt.ylabel('Loss')\n",
        "plt.xlabel('Epoch')\n",
        "plt.legend(['Train', 'Validation'], loc='upper right')\n",
        "plt.show()"
      ],
      "execution_count": 0,
      "outputs": []
    },
    {
      "metadata": {
        "id": "xOPPJT3YJeZx",
        "colab_type": "code",
        "colab": {}
      },
      "cell_type": "code",
      "source": [
        "# pront example for bad and good predictions\n",
        "\n",
        "# invert scaling for forecast\n",
        "temp_test_1 = X_test.copy()\n",
        "temp_test_1.iloc[:,0] = pred\n",
        "temp_test_1 = get_invers_transform(temp_test_1)\n",
        "y_pred_original_val = temp_test_1.iloc[:,0]\n",
        "\n",
        "# invert scaling for actual\n",
        "temp_test_2 = X_test.copy()\n",
        "temp_test_2.iloc[:,0] = y_test\n",
        "temp_test_2 = get_invers_transform(temp_test_2)\n",
        "y_true_original_val = temp_test_2.iloc[:,0]\n",
        "\n",
        "dist_df = get_invers_transform(X_test)\n",
        "\n",
        "columns = data.columns\n",
        "dist_df.columns = columns\n",
        "\n",
        "dist_df['true_next_day_pm2.5'] = y_true_original_val\n",
        "dist_df['pred_next_day_pm2.5'] = y_pred_original_val\n",
        "dist_df['true_norm_val'] = y_test \n",
        "dist_df['pred_norm_val'] =  pred\n",
        "dist_df['dist'] = abs(dist_df['true_norm_val']-dist_df['pred_norm_val'])\n",
        "dist_df.sort_values(by=['dist'], inplace=True)\n"
      ],
      "execution_count": 0,
      "outputs": []
    },
    {
      "metadata": {
        "id": "gnI0DL7qI1iS",
        "colab_type": "code",
        "colab": {}
      },
      "cell_type": "code",
      "source": [
        "# good predictions\n",
        "\n",
        "dist_df.head()"
      ],
      "execution_count": 0,
      "outputs": []
    },
    {
      "metadata": {
        "id": "nw-Le2ZCiIhQ",
        "colab_type": "code",
        "colab": {}
      },
      "cell_type": "code",
      "source": [
        "# bad predictions\n",
        "\n",
        "dist_df.tail()"
      ],
      "execution_count": 0,
      "outputs": []
    },
    {
      "metadata": {
        "id": "LLgiR0kdzJ3t",
        "colab_type": "text"
      },
      "cell_type": "markdown",
      "source": [
        "# PLOTS"
      ]
    },
    {
      "metadata": {
        "id": "N2n0Xdxzwjt2",
        "colab_type": "code",
        "colab": {}
      },
      "cell_type": "code",
      "source": [
        "plt.scatter(y_train,train_pred)\n",
        "plt.title(\"prediction vs true value\")\n",
        "plt.xlabel(\"prediction\")\n",
        "plt.ylabel(\"true value\")\n",
        "plt.show()"
      ],
      "execution_count": 0,
      "outputs": []
    },
    {
      "metadata": {
        "id": "antV3begs9cH",
        "colab_type": "code",
        "colab": {}
      },
      "cell_type": "code",
      "source": [
        "sns.pairplot(data_unsuper)"
      ],
      "execution_count": 0,
      "outputs": []
    },
    {
      "metadata": {
        "id": "jft9laBX3-gF",
        "colab_type": "code",
        "colab": {}
      },
      "cell_type": "code",
      "source": [
        "data_unsuper.columns = np.append(norm_data.columns.values, ['pm2.5_next_day'])\n",
        "data_unsuper.corr()"
      ],
      "execution_count": 0,
      "outputs": []
    },
    {
      "metadata": {
        "id": "fAxCfs-EtsNV",
        "colab_type": "code",
        "colab": {}
      },
      "cell_type": "code",
      "source": [
        "sns.distplot(norm_data['pm2.5'])"
      ],
      "execution_count": 0,
      "outputs": []
    }
  ]
}