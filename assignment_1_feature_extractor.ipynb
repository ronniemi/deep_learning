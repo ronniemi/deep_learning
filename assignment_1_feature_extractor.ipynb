{
  "nbformat": 4,
  "nbformat_minor": 0,
  "metadata": {
    "colab": {
      "name": "assignment_1_feature_extractor.ipynb",
      "version": "0.3.2",
      "provenance": [],
      "collapsed_sections": []
    },
    "kernelspec": {
      "name": "python3",
      "display_name": "Python 3"
    }
  },
  "cells": [
    {
      "metadata": {
        "id": "HN_0Bklazgss",
        "colab_type": "code",
        "outputId": "2bae8943-c3da-4ae5-d040-94a594094a4f",
        "colab": {
          "base_uri": "https://localhost:8080/",
          "height": 33
        }
      },
      "cell_type": "code",
      "source": [
        "%matplotlib inline\n",
        "import pandas as pd\n",
        "import numpy as np\n",
        "from os.path import join\n",
        "\n",
        "import matplotlib.pyplot as plt\n",
        "\n",
        "from keras.utils import to_categorical\n",
        "from sklearn.neighbors import KNeighborsClassifier\n",
        "from keras.models import Model, model_from_json\n",
        "from keras import optimizers\n",
        "from sklearn.metrics import confusion_matrix,accuracy_score,log_loss\n",
        "import seaborn as sns\n",
        "\n",
        "from keras.datasets import cifar10"
      ],
      "execution_count": 1,
      "outputs": [
        {
          "output_type": "stream",
          "text": [
            "Using TensorFlow backend.\n"
          ],
          "name": "stderr"
        }
      ]
    },
    {
      "metadata": {
        "id": "IXbeIXD_UkFh",
        "colab_type": "code",
        "outputId": "7b017eec-faf3-4fa5-b40c-cd9c330f9ee5",
        "colab": {
          "base_uri": "https://localhost:8080/",
          "height": 120
        }
      },
      "cell_type": "code",
      "source": [
        "# Here we allow access to drives directory (to load the model)\n",
        "\n",
        "from google.colab import drive\n",
        "drive.mount('/content/drive/')"
      ],
      "execution_count": 2,
      "outputs": [
        {
          "output_type": "stream",
          "text": [
            "Go to this URL in a browser: https://accounts.google.com/o/oauth2/auth?client_id=947318989803-6bn6qk8qdgf4n4g3pfee6491hc0brc4i.apps.googleusercontent.com&redirect_uri=urn%3Aietf%3Awg%3Aoauth%3A2.0%3Aoob&scope=email%20https%3A%2F%2Fwww.googleapis.com%2Fauth%2Fdocs.test%20https%3A%2F%2Fwww.googleapis.com%2Fauth%2Fdrive%20https%3A%2F%2Fwww.googleapis.com%2Fauth%2Fdrive.photos.readonly%20https%3A%2F%2Fwww.googleapis.com%2Fauth%2Fpeopleapi.readonly&response_type=code\n",
            "\n",
            "Enter your authorization code:\n",
            "··········\n",
            "Mounted at /content/drive/\n"
          ],
          "name": "stdout"
        }
      ]
    },
    {
      "metadata": {
        "id": "d1m2ZTtez0Ln",
        "colab_type": "code",
        "outputId": "dd64f5b1-e326-48e3-d404-d2f5eb9e1ee4",
        "colab": {
          "base_uri": "https://localhost:8080/",
          "height": 50
        }
      },
      "cell_type": "code",
      "source": [
        "(x_train, y_train), (x_test, y_test) = cifar10.load_data()"
      ],
      "execution_count": 3,
      "outputs": [
        {
          "output_type": "stream",
          "text": [
            "Downloading data from https://www.cs.toronto.edu/~kriz/cifar-10-python.tar.gz\n",
            "170500096/170498071 [==============================] - 21s 0us/step\n"
          ],
          "name": "stdout"
        }
      ]
    },
    {
      "metadata": {
        "id": "IdqfFDyGOyeU",
        "colab_type": "code",
        "colab": {}
      },
      "cell_type": "code",
      "source": [
        "y_train = to_categorical(y_train)\n",
        "y_test = to_categorical(y_test)"
      ],
      "execution_count": 0,
      "outputs": []
    },
    {
      "metadata": {
        "id": "98YvcZd6P7G4",
        "colab_type": "code",
        "colab": {}
      },
      "cell_type": "code",
      "source": [
        "# normalise and center the mean\n",
        "\n",
        "x_train = x_train.astype(\"float32\")  \n",
        "x_test = x_test.astype(\"float32\")\n",
        "mean = np.mean(x_train)\n",
        "std = np.std(x_train)\n",
        "x_train = (x_train - mean) / std\n",
        "x_test = (x_test - mean) / std"
      ],
      "execution_count": 0,
      "outputs": []
    },
    {
      "metadata": {
        "id": "D5W97NQ_OGfv",
        "colab_type": "code",
        "colab": {}
      },
      "cell_type": "code",
      "source": [
        "def save_model(model,filename):\n",
        "    # this is a helper function used to save a keras NN model architecture and weights\n",
        "    json_string = model.to_json()\n",
        "    path = join('/content/drive/My Drive/deep learning/models', filename)\n",
        "    open(path + '_architecture.json', 'w').write(json_string)\n",
        "    model.save_weights(path + '_model_weights.h5', overwrite=True)\n",
        "    \n",
        "def read_model(filename):\n",
        "    # this is a helper function used to restore a keras NN model architecture and weights\n",
        "    path = join('/content/drive/My Drive/deep learning/models', filename)\n",
        "    model = model_from_json(open(path + '_architecture.json', 'r').read())\n",
        "    model.load_weights(path + '_model_weights.h5')\n",
        "    return model"
      ],
      "execution_count": 0,
      "outputs": []
    },
    {
      "metadata": {
        "id": "wg-mB1M_z5wb",
        "colab_type": "code",
        "colab": {}
      },
      "cell_type": "code",
      "source": [
        "model = read_model('fine_tuning_normal_1911')"
      ],
      "execution_count": 0,
      "outputs": []
    },
    {
      "metadata": {
        "id": "sFauKMhFCoh6",
        "colab_type": "code",
        "colab": {}
      },
      "cell_type": "code",
      "source": [
        "# get only the top 20 layers so we remove the output layer \n",
        "\n",
        "last = model.layers[20].output"
      ],
      "execution_count": 0,
      "outputs": []
    },
    {
      "metadata": {
        "id": "nlLmMvOcYhq_",
        "colab_type": "code",
        "colab": {}
      },
      "cell_type": "code",
      "source": [
        "# create the model without the output layer\n",
        "\n",
        "feature_model = Model(model.input, last)"
      ],
      "execution_count": 0,
      "outputs": []
    },
    {
      "metadata": {
        "id": "C9XGqYVOAjUe",
        "colab_type": "code",
        "outputId": "07a0a3a9-7de4-446f-f389-0fe1f8727554",
        "colab": {
          "base_uri": "https://localhost:8080/",
          "height": 840
        }
      },
      "cell_type": "code",
      "source": [
        "feature_model.compile(loss='categorical_crossentropy', optimizer=optimizers.SGD(lr=1e-3, momentum=0.9), metrics=['accuracy'])\n",
        "feature_model.summary()"
      ],
      "execution_count": 10,
      "outputs": [
        {
          "output_type": "stream",
          "text": [
            "_________________________________________________________________\n",
            "Layer (type)                 Output Shape              Param #   \n",
            "=================================================================\n",
            "input_1 (InputLayer)         (None, 32, 32, 3)         0         \n",
            "_________________________________________________________________\n",
            "block1_conv1 (Conv2D)        (None, 32, 32, 64)        1792      \n",
            "_________________________________________________________________\n",
            "block1_conv2 (Conv2D)        (None, 32, 32, 64)        36928     \n",
            "_________________________________________________________________\n",
            "block1_pool (MaxPooling2D)   (None, 16, 16, 64)        0         \n",
            "_________________________________________________________________\n",
            "block2_conv1 (Conv2D)        (None, 16, 16, 128)       73856     \n",
            "_________________________________________________________________\n",
            "block2_conv2 (Conv2D)        (None, 16, 16, 128)       147584    \n",
            "_________________________________________________________________\n",
            "block2_pool (MaxPooling2D)   (None, 8, 8, 128)         0         \n",
            "_________________________________________________________________\n",
            "block3_conv1 (Conv2D)        (None, 8, 8, 256)         295168    \n",
            "_________________________________________________________________\n",
            "block3_conv2 (Conv2D)        (None, 8, 8, 256)         590080    \n",
            "_________________________________________________________________\n",
            "block3_conv3 (Conv2D)        (None, 8, 8, 256)         590080    \n",
            "_________________________________________________________________\n",
            "block3_pool (MaxPooling2D)   (None, 4, 4, 256)         0         \n",
            "_________________________________________________________________\n",
            "block4_conv1 (Conv2D)        (None, 4, 4, 512)         1180160   \n",
            "_________________________________________________________________\n",
            "block4_conv2 (Conv2D)        (None, 4, 4, 512)         2359808   \n",
            "_________________________________________________________________\n",
            "block4_conv3 (Conv2D)        (None, 4, 4, 512)         2359808   \n",
            "_________________________________________________________________\n",
            "block4_pool (MaxPooling2D)   (None, 2, 2, 512)         0         \n",
            "_________________________________________________________________\n",
            "block5_conv1 (Conv2D)        (None, 2, 2, 512)         2359808   \n",
            "_________________________________________________________________\n",
            "block5_conv2 (Conv2D)        (None, 2, 2, 512)         2359808   \n",
            "_________________________________________________________________\n",
            "block5_conv3 (Conv2D)        (None, 2, 2, 512)         2359808   \n",
            "_________________________________________________________________\n",
            "block5_pool (MaxPooling2D)   (None, 1, 1, 512)         0         \n",
            "_________________________________________________________________\n",
            "flatten_1 (Flatten)          (None, 512)               0         \n",
            "_________________________________________________________________\n",
            "dense_1 (Dense)              (None, 256)               131328    \n",
            "=================================================================\n",
            "Total params: 14,846,016\n",
            "Trainable params: 14,846,016\n",
            "Non-trainable params: 0\n",
            "_________________________________________________________________\n"
          ],
          "name": "stdout"
        }
      ]
    },
    {
      "metadata": {
        "id": "_lpjXxxArLUm",
        "colab_type": "code",
        "colab": {}
      },
      "cell_type": "code",
      "source": [
        "# we use the output of the last layer as fetures so they will be the input to the KNN model\n",
        "\n",
        "featurs = feature_model.predict(x_train)"
      ],
      "execution_count": 0,
      "outputs": []
    },
    {
      "metadata": {
        "id": "oGAuH2ZsYhCN",
        "colab_type": "code",
        "colab": {}
      },
      "cell_type": "code",
      "source": [
        "# we preform the prediction also on the test set to evaluate the accurecy on test set\n",
        "\n",
        "features_test = feature_model.predict(x_test)"
      ],
      "execution_count": 0,
      "outputs": []
    },
    {
      "metadata": {
        "id": "PdcwQCJC0e8C",
        "colab_type": "code",
        "outputId": "8c7a763d-b435-47dd-adf6-01a004e21dda",
        "colab": {
          "base_uri": "https://localhost:8080/",
          "height": 67
        }
      },
      "cell_type": "code",
      "source": [
        "# create simple KNN classifier and train this model on the feature we extract from the original model\n",
        "\n",
        "classifier = KNeighborsClassifier(n_neighbors=5)  \n",
        "classifier.fit(featurs, y_train)"
      ],
      "execution_count": 13,
      "outputs": [
        {
          "output_type": "execute_result",
          "data": {
            "text/plain": [
              "KNeighborsClassifier(algorithm='auto', leaf_size=30, metric='minkowski',\n",
              "           metric_params=None, n_jobs=1, n_neighbors=5, p=2,\n",
              "           weights='uniform')"
            ]
          },
          "metadata": {
            "tags": []
          },
          "execution_count": 13
        }
      ]
    },
    {
      "metadata": {
        "id": "NjeQhZjb0v4c",
        "colab_type": "code",
        "outputId": "4d9baa8a-c915-42e7-af45-2a2e8776c537",
        "colab": {
          "base_uri": "https://localhost:8080/",
          "height": 543
        }
      },
      "cell_type": "code",
      "source": [
        " # accuracy on test set\n",
        "\n",
        "y_test_cat = np.argmax(y_test, axis=1)\n",
        "preds = classifier.predict(features_test)\n",
        "pred_cat = np.argmax(preds, axis=1)\n",
        "print('')\n",
        "print(confusion_matrix(y_test_cat, pred_cat))\n",
        "print()\n",
        "print('model accuracy on test set is: {}%'.format(accuracy_score(y_test_cat, pred_cat)*100))\n",
        "sns.heatmap(confusion_matrix(y_test_cat, pred_cat), cmap='Greens', annot=True, fmt='d')\n",
        "plt.xlabel('Prediction')\n",
        "plt.ylabel('True label')\n",
        "plt.title('CIFAR-10 Convolutional model \\n classification results on test set')"
      ],
      "execution_count": 14,
      "outputs": [
        {
          "output_type": "stream",
          "text": [
            "\n",
            "[[904   5  21  11   8   1   1   5  31  13]\n",
            " [ 27 913   0   3   0   0   4   2  12  39]\n",
            " [ 72   0 790  32  46  18  28  11   3   0]\n",
            " [ 63   2  42 676  27 119  38  19   6   8]\n",
            " [ 37   1  34  30 825  25  18  26   4   0]\n",
            " [ 42   1  14 129  27 745  13  27   1   1]\n",
            " [ 26   0  28  32  13   7 880   5   5   4]\n",
            " [ 39   3  16  23  28  19   2 866   1   3]\n",
            " [ 30  13   3   8   3   0   2   1 928  12]\n",
            " [ 25  46   3   4   1   3   3   3  15 897]]\n",
            "\n",
            "model accuracy on test set is: 84.24000000000001%\n"
          ],
          "name": "stdout"
        },
        {
          "output_type": "execute_result",
          "data": {
            "text/plain": [
              "Text(0.5,1,'CIFAR-10 Convolutional model \\n classification results on test set')"
            ]
          },
          "metadata": {
            "tags": []
          },
          "execution_count": 14
        },
        {
          "output_type": "display_data",
          "data": {
            "image/png": "[encoded data removed]",
            "text/plain": [
              "<matplotlib.figure.Figure at 0x7f9a1cdc9550>"
            ]
          },
          "metadata": {
            "tags": []
          }
        }
      ]
    },
    {
      "metadata": {
        "id": "aF4xVbWH0x-F",
        "colab_type": "code",
        "outputId": "7ebaec87-a239-449f-e3f5-b537d7724649",
        "colab": {
          "base_uri": "https://localhost:8080/",
          "height": 543
        }
      },
      "cell_type": "code",
      "source": [
        " # accuracy on train set\n",
        "\n",
        "y_train_cat = np.argmax(y_train, axis=1)\n",
        "preds = classifier.predict(featurs)\n",
        "pred_cat = np.argmax(preds, axis=1)\n",
        "print('')\n",
        "print(confusion_matrix(y_train_cat, pred_cat))\n",
        "print()\n",
        "print('model accuracy on train set is: {}%'.format(accuracy_score(y_train_cat, pred_cat)*100))\n",
        "sns.heatmap(confusion_matrix(y_train_cat, pred_cat), cmap='Greens', annot=True, fmt='d')\n",
        "plt.xlabel('Prediction')\n",
        "plt.ylabel('True label')\n",
        "plt.title('CIFAR-10 Convolutional model \\n classification results on train set')"
      ],
      "execution_count": 15,
      "outputs": [
        {
          "output_type": "stream",
          "text": [
            "\n",
            "[[4878    6   29    8    5    2    1    8   51   12]\n",
            " [  25 4880    0    5    0    0    1    1   16   72]\n",
            " [ 143    1 4716   33   39   26   29   10    2    1]\n",
            " [ 183    3   39 4416   39  247   42   19    6    6]\n",
            " [ 124    0   54   52 4672   25   24   41    8    0]\n",
            " [ 133    0   25  294   48 4416   11   70    2    1]\n",
            " [  82    2   38   46   14   22 4790    2    3    1]\n",
            " [  91    1   11   37   45   35    1 4774    1    4]\n",
            " [  74   13    2    5    4    4    1    0 4878   19]\n",
            " [  47   57    3    6    3    1    1    1   19 4862]]\n",
            "\n",
            "model accuracy on train set is: 94.56400000000001%\n"
          ],
          "name": "stdout"
        },
        {
          "output_type": "execute_result",
          "data": {
            "text/plain": [
              "Text(0.5,1,'CIFAR-10 Convolutional model \\n classification results on train set')"
            ]
          },
          "metadata": {
            "tags": []
          },
          "execution_count": 15
        },
        {
          "output_type": "display_data",
          "data": {
            "image/png": "[encoded data removed]",
            "text/plain": [
              "<matplotlib.figure.Figure at 0x7f9a1ac35198>"
            ]
          },
          "metadata": {
            "tags": []
          }
        }
      ]
    },
    {
      "metadata": {
        "id": "cvAAWqjcBjE9",
        "colab_type": "code",
        "colab": {}
      },
      "cell_type": "code",
      "source": [
        ""
      ],
      "execution_count": 0,
      "outputs": []
    }
  ]
}