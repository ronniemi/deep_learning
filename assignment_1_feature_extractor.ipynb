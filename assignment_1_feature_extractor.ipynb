{
  "nbformat": 4,
  "nbformat_minor": 0,
  "metadata": {
    "colab": {
      "name": "assignment_1_feature_extractor.ipynb",
      "version": "0.3.2",
      "provenance": [],
      "collapsed_sections": [],
      "include_colab_link": true
    },
    "kernelspec": {
      "name": "python3",
      "display_name": "Python 3"
    }
  },
  "cells": [
    {
      "cell_type": "markdown",
      "metadata": {
        "id": "view-in-github",
        "colab_type": "text"
      },
      "source": [
        "<a href=\"https://colab.research.google.com/github/ronniemi/deep_learning/blob/master/assignment_1_feature_extractor.ipynb\" target=\"_parent\"><img src=\"https://colab.research.google.com/assets/colab-badge.svg\" alt=\"Open In Colab\"/></a>"
      ]
    },
    {
      "metadata": {
        "id": "HN_0Bklazgss",
        "colab_type": "code",
        "outputId": "8494306b-1091-4bdf-b4f0-77c9137ce7f8",
        "colab": {
          "base_uri": "https://localhost:8080/",
          "height": 33
        }
      },
      "cell_type": "code",
      "source": [
        "%matplotlib inline\n",
        "import pandas as pd\n",
        "import numpy as np\n",
        "from os.path import join\n",
        "\n",
        "import matplotlib.pyplot as plt\n",
        "\n",
        "from keras.utils import to_categorical\n",
        "from sklearn.neighbors import KNeighborsClassifier\n",
        "from keras.models import Model, model_from_json\n",
        "from keras import optimizers\n",
        "from sklearn.metrics import confusion_matrix,accuracy_score,log_loss\n",
        "import seaborn as sns\n",
        "\n",
        "from keras.datasets import cifar10"
      ],
      "execution_count": 1,
      "outputs": [
        {
          "output_type": "stream",
          "text": [
            "Using TensorFlow backend.\n"
          ],
          "name": "stderr"
        }
      ]
    },
    {
      "metadata": {
        "id": "IXbeIXD_UkFh",
        "colab_type": "code",
        "outputId": "2465c4c6-c478-4bfb-b07d-59e825bc453d",
        "colab": {
          "base_uri": "https://localhost:8080/",
          "height": 33
        }
      },
      "cell_type": "code",
      "source": [
        "# Here we allow access to drives directory (to load the model)\n",
        "\n",
        "from google.colab import drive\n",
        "drive.mount('/content/drive/')"
      ],
      "execution_count": 2,
      "outputs": [
        {
          "output_type": "stream",
          "text": [
            "Drive already mounted at /content/drive/; to attempt to forcibly remount, call drive.mount(\"/content/drive/\", force_remount=True).\n"
          ],
          "name": "stdout"
        }
      ]
    },
    {
      "metadata": {
        "id": "d1m2ZTtez0Ln",
        "colab_type": "code",
        "colab": {}
      },
      "cell_type": "code",
      "source": [
        "(x_train, y_train), (x_test, y_test) = cifar10.load_data()"
      ],
      "execution_count": 0,
      "outputs": []
    },
    {
      "metadata": {
        "id": "IdqfFDyGOyeU",
        "colab_type": "code",
        "colab": {}
      },
      "cell_type": "code",
      "source": [
        "y_train = to_categorical(y_train)\n",
        "y_test = to_categorical(y_test)"
      ],
      "execution_count": 0,
      "outputs": []
    },
    {
      "metadata": {
        "id": "98YvcZd6P7G4",
        "colab_type": "code",
        "colab": {}
      },
      "cell_type": "code",
      "source": [
        "# normalise and center the mean\n",
        "\n",
        "x_train = x_train.astype(\"float32\")  \n",
        "x_test = x_test.astype(\"float32\")\n",
        "mean = np.mean(x_train)\n",
        "std = np.std(x_train)\n",
        "x_train = (x_train - mean) / std\n",
        "x_test = (x_test - mean) / std"
      ],
      "execution_count": 0,
      "outputs": []
    },
    {
      "metadata": {
        "id": "-NdlyK5lo49E",
        "colab_type": "code",
        "colab": {}
      },
      "cell_type": "code",
      "source": [
        "# normalise and center the mean using mean and std of ImageNet data set\n",
        "\n",
        "\n",
        "mean = [0.485, 0.456, 0.406]\n",
        "std = [0.229, 0.224, 0.225]\n",
        "\n",
        "def normalization(x):\n",
        "  x = x.astype('float32')\n",
        "  x = x/255\n",
        "  x[..., 0] -= mean[0]\n",
        "  x[..., 1] -= mean[1]\n",
        "  x[..., 2] -= mean[2]\n",
        "  x[..., 0] /= std[0]\n",
        "  x[..., 1] /= std[1]\n",
        "  x[..., 2] /= std[2]\n",
        "  return x\n",
        "\n",
        "x_train = normalization(x_train)\n",
        "x_test = normalization(x_test)"
      ],
      "execution_count": 0,
      "outputs": []
    },
    {
      "metadata": {
        "id": "D5W97NQ_OGfv",
        "colab_type": "code",
        "colab": {}
      },
      "cell_type": "code",
      "source": [
        "def save_model(model,filename):\n",
        "    # this is a helper function used to save a keras NN model architecture and weights\n",
        "    json_string = model.to_json()\n",
        "    path = join('/content/drive/My Drive/deep learning/models', filename)\n",
        "    open(path + '_architecture.json', 'w').write(json_string)\n",
        "    model.save_weights(path + '_model_weights.h5', overwrite=True)\n",
        "    \n",
        "def read_model(filename):\n",
        "    # this is a helper function used to restore a keras NN model architecture and weights\n",
        "    path = join('/content/drive/My Drive/deep learning/models', filename)\n",
        "    model = model_from_json(open(path + '_architecture.json', 'r').read())\n",
        "    model.load_weights(path + '_model_weights.h5')\n",
        "    return model"
      ],
      "execution_count": 0,
      "outputs": []
    },
    {
      "metadata": {
        "id": "wg-mB1M_z5wb",
        "colab_type": "code",
        "colab": {}
      },
      "cell_type": "code",
      "source": [
        "model = read_model('fine_tuning_1911')"
      ],
      "execution_count": 0,
      "outputs": []
    },
    {
      "metadata": {
        "id": "sFauKMhFCoh6",
        "colab_type": "code",
        "colab": {}
      },
      "cell_type": "code",
      "source": [
        "# get only the top 20 layers so we remove the output layer \n",
        "\n",
        "last = model.layers[20].output"
      ],
      "execution_count": 0,
      "outputs": []
    },
    {
      "metadata": {
        "id": "nlLmMvOcYhq_",
        "colab_type": "code",
        "colab": {}
      },
      "cell_type": "code",
      "source": [
        "# create the model without the output layer\n",
        "\n",
        "feature_model = Model(model.input, last)"
      ],
      "execution_count": 0,
      "outputs": []
    },
    {
      "metadata": {
        "id": "C9XGqYVOAjUe",
        "colab_type": "code",
        "outputId": "ab362f76-e942-478c-f1a2-969312de33c4",
        "colab": {
          "base_uri": "https://localhost:8080/",
          "height": 840
        }
      },
      "cell_type": "code",
      "source": [
        "feature_model.compile(loss='categorical_crossentropy', optimizer=optimizers.SGD(lr=1e-3, momentum=0.9), metrics=['accuracy'])\n",
        "feature_model.summary()"
      ],
      "execution_count": 10,
      "outputs": [
        {
          "output_type": "stream",
          "text": [
            "_________________________________________________________________\n",
            "Layer (type)                 Output Shape              Param #   \n",
            "=================================================================\n",
            "input_1 (InputLayer)         (None, 32, 32, 3)         0         \n",
            "_________________________________________________________________\n",
            "block1_conv1 (Conv2D)        (None, 32, 32, 64)        1792      \n",
            "_________________________________________________________________\n",
            "block1_conv2 (Conv2D)        (None, 32, 32, 64)        36928     \n",
            "_________________________________________________________________\n",
            "block1_pool (MaxPooling2D)   (None, 16, 16, 64)        0         \n",
            "_________________________________________________________________\n",
            "block2_conv1 (Conv2D)        (None, 16, 16, 128)       73856     \n",
            "_________________________________________________________________\n",
            "block2_conv2 (Conv2D)        (None, 16, 16, 128)       147584    \n",
            "_________________________________________________________________\n",
            "block2_pool (MaxPooling2D)   (None, 8, 8, 128)         0         \n",
            "_________________________________________________________________\n",
            "block3_conv1 (Conv2D)        (None, 8, 8, 256)         295168    \n",
            "_________________________________________________________________\n",
            "block3_conv2 (Conv2D)        (None, 8, 8, 256)         590080    \n",
            "_________________________________________________________________\n",
            "block3_conv3 (Conv2D)        (None, 8, 8, 256)         590080    \n",
            "_________________________________________________________________\n",
            "block3_pool (MaxPooling2D)   (None, 4, 4, 256)         0         \n",
            "_________________________________________________________________\n",
            "block4_conv1 (Conv2D)        (None, 4, 4, 512)         1180160   \n",
            "_________________________________________________________________\n",
            "block4_conv2 (Conv2D)        (None, 4, 4, 512)         2359808   \n",
            "_________________________________________________________________\n",
            "block4_conv3 (Conv2D)        (None, 4, 4, 512)         2359808   \n",
            "_________________________________________________________________\n",
            "block4_pool (MaxPooling2D)   (None, 2, 2, 512)         0         \n",
            "_________________________________________________________________\n",
            "block5_conv1 (Conv2D)        (None, 2, 2, 512)         2359808   \n",
            "_________________________________________________________________\n",
            "block5_conv2 (Conv2D)        (None, 2, 2, 512)         2359808   \n",
            "_________________________________________________________________\n",
            "block5_conv3 (Conv2D)        (None, 2, 2, 512)         2359808   \n",
            "_________________________________________________________________\n",
            "block5_pool (MaxPooling2D)   (None, 1, 1, 512)         0         \n",
            "_________________________________________________________________\n",
            "flatten_1 (Flatten)          (None, 512)               0         \n",
            "_________________________________________________________________\n",
            "dense_1 (Dense)              (None, 256)               131328    \n",
            "=================================================================\n",
            "Total params: 14,846,016\n",
            "Trainable params: 14,846,016\n",
            "Non-trainable params: 0\n",
            "_________________________________________________________________\n"
          ],
          "name": "stdout"
        }
      ]
    },
    {
      "metadata": {
        "id": "_lpjXxxArLUm",
        "colab_type": "code",
        "colab": {}
      },
      "cell_type": "code",
      "source": [
        "# we use the output of the last layer as fetures so they will be the input to the KNN model\n",
        "\n",
        "featurs = feature_model.predict(x_train)"
      ],
      "execution_count": 0,
      "outputs": []
    },
    {
      "metadata": {
        "id": "oGAuH2ZsYhCN",
        "colab_type": "code",
        "colab": {}
      },
      "cell_type": "code",
      "source": [
        "# we preform the prediction also on the test set to evaluate the accurecy on test set\n",
        "\n",
        "features_test = feature_model.predict(x_test)"
      ],
      "execution_count": 0,
      "outputs": []
    },
    {
      "metadata": {
        "id": "PdcwQCJC0e8C",
        "colab_type": "code",
        "outputId": "afbf9f84-4869-4668-8257-afeef93f3fca",
        "colab": {
          "base_uri": "https://localhost:8080/",
          "height": 67
        }
      },
      "cell_type": "code",
      "source": [
        "# create simple KNN classifier and train this model on the feature we extract from the original model\n",
        "\n",
        "classifier = KNeighborsClassifier(n_neighbors=5)  \n",
        "classifier.fit(featurs, y_train)"
      ],
      "execution_count": 13,
      "outputs": [
        {
          "output_type": "execute_result",
          "data": {
            "text/plain": [
              "KNeighborsClassifier(algorithm='auto', leaf_size=30, metric='minkowski',\n",
              "           metric_params=None, n_jobs=1, n_neighbors=5, p=2,\n",
              "           weights='uniform')"
            ]
          },
          "metadata": {
            "tags": []
          },
          "execution_count": 13
        }
      ]
    },
    {
      "metadata": {
        "id": "NjeQhZjb0v4c",
        "colab_type": "code",
        "outputId": "ceccc41f-d660-4e0b-fa82-5958b1af527f",
        "colab": {
          "base_uri": "https://localhost:8080/",
          "height": 543
        }
      },
      "cell_type": "code",
      "source": [
        " # accuracy on test set\n",
        "\n",
        "y_test_cat = np.argmax(y_test, axis=1)\n",
        "preds = classifier.predict(features_test)\n",
        "pred_cat = np.argmax(preds, axis=1)\n",
        "print('')\n",
        "print(confusion_matrix(y_test_cat, pred_cat))\n",
        "print()\n",
        "print('model accuracy on test set is: {}%'.format(accuracy_score(y_test_cat, pred_cat)*100))\n",
        "sns.heatmap(confusion_matrix(y_test_cat, pred_cat), cmap='Greens', annot=True, fmt='d')\n",
        "plt.xlabel('Prediction')\n",
        "plt.ylabel('True label')\n",
        "plt.title('CIFAR-10 Convolutional model \\n classification results on test set')"
      ],
      "execution_count": 14,
      "outputs": [
        {
          "output_type": "stream",
          "text": [
            "\n",
            "[[902   6  19   6   6   1   0   8  34  18]\n",
            " [ 18 918   1   1   1   0   1   0   7  53]\n",
            " [ 90   1 773  24  44  19  24  14   9   2]\n",
            " [ 79   4  26 676  34 115  31  23   5   7]\n",
            " [ 54   1  34  27 817  17  16  29   4   1]\n",
            " [ 42   1  13 128  25 749   8  31   1   2]\n",
            " [ 31   3  24  38  19  10 865   3   4   3]\n",
            " [ 44   2   9  20  25  28   1 867   0   4]\n",
            " [ 45  11   2   3   2   0   0   0 925  12]\n",
            " [ 29  40   4   5   1   0   1   5  16 899]]\n",
            "\n",
            "model accuracy on test set is: 83.91%\n"
          ],
          "name": "stdout"
        },
        {
          "output_type": "execute_result",
          "data": {
            "text/plain": [
              "Text(0.5,1,'CIFAR-10 Convolutional model \\n classification results on test set')"
            ]
          },
          "metadata": {
            "tags": []
          },
          "execution_count": 14
        },
        {
          "output_type": "display_data",
          "data": {
            "image/png": "[encoded data removed]",
            "text/plain": [
              "<matplotlib.figure.Figure at 0x7f7bdd910e80>"
            ]
          },
          "metadata": {
            "tags": []
          }
        }
      ]
    },
    {
      "metadata": {
        "id": "aF4xVbWH0x-F",
        "colab_type": "code",
        "outputId": "56aa5fbf-cfb6-4d78-f2f6-c9d47862f85f",
        "colab": {
          "base_uri": "https://localhost:8080/",
          "height": 543
        }
      },
      "cell_type": "code",
      "source": [
        " # accuracy on train set\n",
        "\n",
        "y_train_cat = np.argmax(y_train, axis=1)\n",
        "preds = classifier.predict(featurs)\n",
        "pred_cat = np.argmax(preds, axis=1)\n",
        "print('')\n",
        "print(confusion_matrix(y_train_cat, pred_cat))\n",
        "print()\n",
        "print('model accuracy on train set is: {}%'.format(accuracy_score(y_train_cat, pred_cat)*100))\n",
        "sns.heatmap(confusion_matrix(y_train_cat, pred_cat), cmap='Greens', annot=True, fmt='d')\n",
        "plt.xlabel('Prediction')\n",
        "plt.ylabel('True label')\n",
        "plt.title('CIFAR-10 Convolutional model \\n classification results on train set')"
      ],
      "execution_count": 15,
      "outputs": [
        {
          "output_type": "stream",
          "text": [
            "\n",
            "[[4852   11   40    2    7    0    2   13   57   16]\n",
            " [  27 4867    0    1    1    2    4    5   14   79]\n",
            " [ 177    2 4675   32   45   25   28   13    1    2]\n",
            " [ 193    2   45 4358   57  265   52   20    5    3]\n",
            " [ 121    0   54   57 4666   34   16   49    2    1]\n",
            " [ 157    1   24  341   39 4358   12   62    2    4]\n",
            " [  90    2   40   66   29   10 4751    3    6    3]\n",
            " [  98    0    6   37   30   32    1 4793    0    3]\n",
            " [  86   14    6    8    0    2    3    0 4861   20]\n",
            " [  46   66    3   11    1    2    2    5   12 4852]]\n",
            "\n",
            "model accuracy on train set is: 94.066%\n"
          ],
          "name": "stdout"
        },
        {
          "output_type": "execute_result",
          "data": {
            "text/plain": [
              "Text(0.5,1,'CIFAR-10 Convolutional model \\n classification results on train set')"
            ]
          },
          "metadata": {
            "tags": []
          },
          "execution_count": 15
        },
        {
          "output_type": "display_data",
          "data": {
            "image/png": "[encoded data removed]",
            "text/plain": [
              "<matplotlib.figure.Figure at 0x7f7bdd89fe48>"
            ]
          },
          "metadata": {
            "tags": []
          }
        }
      ]
    },
    {
      "metadata": {
        "id": "cvAAWqjcBjE9",
        "colab_type": "code",
        "colab": {}
      },
      "cell_type": "code",
      "source": [
        ""
      ],
      "execution_count": 0,
      "outputs": []
    }
  ]
}